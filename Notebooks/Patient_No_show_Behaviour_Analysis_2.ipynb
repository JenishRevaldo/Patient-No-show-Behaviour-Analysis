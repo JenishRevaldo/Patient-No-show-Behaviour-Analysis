{
  "nbformat": 4,
  "nbformat_minor": 0,
  "metadata": {
    "colab": {
      "provenance": []
    },
    "kernelspec": {
      "name": "python3",
      "display_name": "Python 3"
    },
    "language_info": {
      "name": "python"
    }
  },
  "cells": [
    {
      "cell_type": "markdown",
      "source": [
        "#Notebook 2\n",
        "This presents an alternative approach distinct from Notebook 1, incorporating corrections to mistakes found in the feature engineering process, encoding of neighborhoods, undersampling for handling imbalanced data, and dropping unnecessary features.\n",
        "\n",
        "**Note:** However the deployment code is based on approach of Notebook-1"
      ],
      "metadata": {
        "id": "W80YIpleNgLi"
      }
    },
    {
      "cell_type": "markdown",
      "source": [
        "##Importing the required libraries"
      ],
      "metadata": {
        "id": "m8uzvVjYNbRY"
      }
    },
    {
      "cell_type": "code",
      "execution_count": 56,
      "metadata": {
        "id": "G3aZW4YZNr2N"
      },
      "outputs": [],
      "source": [
        "import pandas as pd\n",
        "pd.set_option('display.max_columns', None)\n",
        "import numpy as np\n",
        "from collections import Counter\n",
        "import seaborn as sns\n",
        "import matplotlib.pyplot as plt\n",
        "%matplotlib inline\n",
        "\n",
        "from sklearn.model_selection import train_test_split, cross_validate\n",
        "from imblearn.under_sampling import NearMiss\n",
        "from sklearn.preprocessing import StandardScaler, LabelEncoder\n",
        "\n",
        "from sklearn.ensemble import RandomForestClassifier\n",
        "from sklearn.neural_network import MLPClassifier\n",
        "\n",
        "from sklearn.metrics import accuracy_score,precision_score,recall_score,classification_report,confusion_matrix,f1_score,make_scorer,roc_auc_score\n",
        "\n",
        "import pickle"
      ]
    },
    {
      "cell_type": "markdown",
      "source": [
        "- - -\n",
        "\n",
        "- - -"
      ],
      "metadata": {
        "id": "dvXFpZ31Pw7z"
      }
    },
    {
      "cell_type": "markdown",
      "source": [
        "##Importing the data"
      ],
      "metadata": {
        "id": "Pj2fDM10OxZ2"
      }
    },
    {
      "cell_type": "code",
      "source": [
        "data = pd.read_csv('/content/drive/MyDrive/Dataset/Patient no show.csv')\n",
        "\n",
        "df = data.copy()\n",
        "df.head()"
      ],
      "metadata": {
        "colab": {
          "base_uri": "https://localhost:8080/",
          "height": 206
        },
        "id": "lF5YQ9qwN1vE",
        "outputId": "8e39dff2-8ae4-4ad3-8f0f-4f5b8a4a1227"
      },
      "execution_count": 57,
      "outputs": [
        {
          "output_type": "execute_result",
          "data": {
            "text/plain": [
              "      PatientId  AppointmentID Gender          ScheduledDay  \\\n",
              "0  2.990000e+13        5642903      F  2016-04-29T18:38:08Z   \n",
              "1  5.590000e+14        5642503      M  2016-04-29T16:08:27Z   \n",
              "2  4.260000e+12        5642549      F  2016-04-29T16:19:04Z   \n",
              "3  8.680000e+11        5642828      F  2016-04-29T17:29:31Z   \n",
              "4  8.840000e+12        5642494      F  2016-04-29T16:07:23Z   \n",
              "\n",
              "         AppointmentDay  Age      Neighbourhood  Scholarship  Hipertension  \\\n",
              "0  2016-04-29T00:00:00Z   62    JARDIM DA PENHA            0             1   \n",
              "1  2016-04-29T00:00:00Z   56    JARDIM DA PENHA            0             0   \n",
              "2  2016-04-29T00:00:00Z   62      MATA DA PRAIA            0             0   \n",
              "3  2016-04-29T00:00:00Z    8  PONTAL DE CAMBURI            0             0   \n",
              "4  2016-04-29T00:00:00Z   56    JARDIM DA PENHA            0             1   \n",
              "\n",
              "   Diabetes  Alcoholism  Handcap  SMS_received No-show  \n",
              "0         0           0        0             0      No  \n",
              "1         0           0        0             0      No  \n",
              "2         0           0        0             0      No  \n",
              "3         0           0        0             0      No  \n",
              "4         1           0        0             0      No  "
            ],
            "text/html": [
              "\n",
              "  <div id=\"df-babb7f86-2ee7-47dd-896b-b02707737376\" class=\"colab-df-container\">\n",
              "    <div>\n",
              "<style scoped>\n",
              "    .dataframe tbody tr th:only-of-type {\n",
              "        vertical-align: middle;\n",
              "    }\n",
              "\n",
              "    .dataframe tbody tr th {\n",
              "        vertical-align: top;\n",
              "    }\n",
              "\n",
              "    .dataframe thead th {\n",
              "        text-align: right;\n",
              "    }\n",
              "</style>\n",
              "<table border=\"1\" class=\"dataframe\">\n",
              "  <thead>\n",
              "    <tr style=\"text-align: right;\">\n",
              "      <th></th>\n",
              "      <th>PatientId</th>\n",
              "      <th>AppointmentID</th>\n",
              "      <th>Gender</th>\n",
              "      <th>ScheduledDay</th>\n",
              "      <th>AppointmentDay</th>\n",
              "      <th>Age</th>\n",
              "      <th>Neighbourhood</th>\n",
              "      <th>Scholarship</th>\n",
              "      <th>Hipertension</th>\n",
              "      <th>Diabetes</th>\n",
              "      <th>Alcoholism</th>\n",
              "      <th>Handcap</th>\n",
              "      <th>SMS_received</th>\n",
              "      <th>No-show</th>\n",
              "    </tr>\n",
              "  </thead>\n",
              "  <tbody>\n",
              "    <tr>\n",
              "      <th>0</th>\n",
              "      <td>2.990000e+13</td>\n",
              "      <td>5642903</td>\n",
              "      <td>F</td>\n",
              "      <td>2016-04-29T18:38:08Z</td>\n",
              "      <td>2016-04-29T00:00:00Z</td>\n",
              "      <td>62</td>\n",
              "      <td>JARDIM DA PENHA</td>\n",
              "      <td>0</td>\n",
              "      <td>1</td>\n",
              "      <td>0</td>\n",
              "      <td>0</td>\n",
              "      <td>0</td>\n",
              "      <td>0</td>\n",
              "      <td>No</td>\n",
              "    </tr>\n",
              "    <tr>\n",
              "      <th>1</th>\n",
              "      <td>5.590000e+14</td>\n",
              "      <td>5642503</td>\n",
              "      <td>M</td>\n",
              "      <td>2016-04-29T16:08:27Z</td>\n",
              "      <td>2016-04-29T00:00:00Z</td>\n",
              "      <td>56</td>\n",
              "      <td>JARDIM DA PENHA</td>\n",
              "      <td>0</td>\n",
              "      <td>0</td>\n",
              "      <td>0</td>\n",
              "      <td>0</td>\n",
              "      <td>0</td>\n",
              "      <td>0</td>\n",
              "      <td>No</td>\n",
              "    </tr>\n",
              "    <tr>\n",
              "      <th>2</th>\n",
              "      <td>4.260000e+12</td>\n",
              "      <td>5642549</td>\n",
              "      <td>F</td>\n",
              "      <td>2016-04-29T16:19:04Z</td>\n",
              "      <td>2016-04-29T00:00:00Z</td>\n",
              "      <td>62</td>\n",
              "      <td>MATA DA PRAIA</td>\n",
              "      <td>0</td>\n",
              "      <td>0</td>\n",
              "      <td>0</td>\n",
              "      <td>0</td>\n",
              "      <td>0</td>\n",
              "      <td>0</td>\n",
              "      <td>No</td>\n",
              "    </tr>\n",
              "    <tr>\n",
              "      <th>3</th>\n",
              "      <td>8.680000e+11</td>\n",
              "      <td>5642828</td>\n",
              "      <td>F</td>\n",
              "      <td>2016-04-29T17:29:31Z</td>\n",
              "      <td>2016-04-29T00:00:00Z</td>\n",
              "      <td>8</td>\n",
              "      <td>PONTAL DE CAMBURI</td>\n",
              "      <td>0</td>\n",
              "      <td>0</td>\n",
              "      <td>0</td>\n",
              "      <td>0</td>\n",
              "      <td>0</td>\n",
              "      <td>0</td>\n",
              "      <td>No</td>\n",
              "    </tr>\n",
              "    <tr>\n",
              "      <th>4</th>\n",
              "      <td>8.840000e+12</td>\n",
              "      <td>5642494</td>\n",
              "      <td>F</td>\n",
              "      <td>2016-04-29T16:07:23Z</td>\n",
              "      <td>2016-04-29T00:00:00Z</td>\n",
              "      <td>56</td>\n",
              "      <td>JARDIM DA PENHA</td>\n",
              "      <td>0</td>\n",
              "      <td>1</td>\n",
              "      <td>1</td>\n",
              "      <td>0</td>\n",
              "      <td>0</td>\n",
              "      <td>0</td>\n",
              "      <td>No</td>\n",
              "    </tr>\n",
              "  </tbody>\n",
              "</table>\n",
              "</div>\n",
              "    <div class=\"colab-df-buttons\">\n",
              "\n",
              "  <div class=\"colab-df-container\">\n",
              "    <button class=\"colab-df-convert\" onclick=\"convertToInteractive('df-babb7f86-2ee7-47dd-896b-b02707737376')\"\n",
              "            title=\"Convert this dataframe to an interactive table.\"\n",
              "            style=\"display:none;\">\n",
              "\n",
              "  <svg xmlns=\"http://www.w3.org/2000/svg\" height=\"24px\" viewBox=\"0 -960 960 960\">\n",
              "    <path d=\"M120-120v-720h720v720H120Zm60-500h600v-160H180v160Zm220 220h160v-160H400v160Zm0 220h160v-160H400v160ZM180-400h160v-160H180v160Zm440 0h160v-160H620v160ZM180-180h160v-160H180v160Zm440 0h160v-160H620v160Z\"/>\n",
              "  </svg>\n",
              "    </button>\n",
              "\n",
              "  <style>\n",
              "    .colab-df-container {\n",
              "      display:flex;\n",
              "      gap: 12px;\n",
              "    }\n",
              "\n",
              "    .colab-df-convert {\n",
              "      background-color: #E8F0FE;\n",
              "      border: none;\n",
              "      border-radius: 50%;\n",
              "      cursor: pointer;\n",
              "      display: none;\n",
              "      fill: #1967D2;\n",
              "      height: 32px;\n",
              "      padding: 0 0 0 0;\n",
              "      width: 32px;\n",
              "    }\n",
              "\n",
              "    .colab-df-convert:hover {\n",
              "      background-color: #E2EBFA;\n",
              "      box-shadow: 0px 1px 2px rgba(60, 64, 67, 0.3), 0px 1px 3px 1px rgba(60, 64, 67, 0.15);\n",
              "      fill: #174EA6;\n",
              "    }\n",
              "\n",
              "    .colab-df-buttons div {\n",
              "      margin-bottom: 4px;\n",
              "    }\n",
              "\n",
              "    [theme=dark] .colab-df-convert {\n",
              "      background-color: #3B4455;\n",
              "      fill: #D2E3FC;\n",
              "    }\n",
              "\n",
              "    [theme=dark] .colab-df-convert:hover {\n",
              "      background-color: #434B5C;\n",
              "      box-shadow: 0px 1px 3px 1px rgba(0, 0, 0, 0.15);\n",
              "      filter: drop-shadow(0px 1px 2px rgba(0, 0, 0, 0.3));\n",
              "      fill: #FFFFFF;\n",
              "    }\n",
              "  </style>\n",
              "\n",
              "    <script>\n",
              "      const buttonEl =\n",
              "        document.querySelector('#df-babb7f86-2ee7-47dd-896b-b02707737376 button.colab-df-convert');\n",
              "      buttonEl.style.display =\n",
              "        google.colab.kernel.accessAllowed ? 'block' : 'none';\n",
              "\n",
              "      async function convertToInteractive(key) {\n",
              "        const element = document.querySelector('#df-babb7f86-2ee7-47dd-896b-b02707737376');\n",
              "        const dataTable =\n",
              "          await google.colab.kernel.invokeFunction('convertToInteractive',\n",
              "                                                    [key], {});\n",
              "        if (!dataTable) return;\n",
              "\n",
              "        const docLinkHtml = 'Like what you see? Visit the ' +\n",
              "          '<a target=\"_blank\" href=https://colab.research.google.com/notebooks/data_table.ipynb>data table notebook</a>'\n",
              "          + ' to learn more about interactive tables.';\n",
              "        element.innerHTML = '';\n",
              "        dataTable['output_type'] = 'display_data';\n",
              "        await google.colab.output.renderOutput(dataTable, element);\n",
              "        const docLink = document.createElement('div');\n",
              "        docLink.innerHTML = docLinkHtml;\n",
              "        element.appendChild(docLink);\n",
              "      }\n",
              "    </script>\n",
              "  </div>\n",
              "\n",
              "\n",
              "<div id=\"df-7df89faf-1d4f-4a7d-958f-4d6cab3a97fb\">\n",
              "  <button class=\"colab-df-quickchart\" onclick=\"quickchart('df-7df89faf-1d4f-4a7d-958f-4d6cab3a97fb')\"\n",
              "            title=\"Suggest charts\"\n",
              "            style=\"display:none;\">\n",
              "\n",
              "<svg xmlns=\"http://www.w3.org/2000/svg\" height=\"24px\"viewBox=\"0 0 24 24\"\n",
              "     width=\"24px\">\n",
              "    <g>\n",
              "        <path d=\"M19 3H5c-1.1 0-2 .9-2 2v14c0 1.1.9 2 2 2h14c1.1 0 2-.9 2-2V5c0-1.1-.9-2-2-2zM9 17H7v-7h2v7zm4 0h-2V7h2v10zm4 0h-2v-4h2v4z\"/>\n",
              "    </g>\n",
              "</svg>\n",
              "  </button>\n",
              "\n",
              "<style>\n",
              "  .colab-df-quickchart {\n",
              "      --bg-color: #E8F0FE;\n",
              "      --fill-color: #1967D2;\n",
              "      --hover-bg-color: #E2EBFA;\n",
              "      --hover-fill-color: #174EA6;\n",
              "      --disabled-fill-color: #AAA;\n",
              "      --disabled-bg-color: #DDD;\n",
              "  }\n",
              "\n",
              "  [theme=dark] .colab-df-quickchart {\n",
              "      --bg-color: #3B4455;\n",
              "      --fill-color: #D2E3FC;\n",
              "      --hover-bg-color: #434B5C;\n",
              "      --hover-fill-color: #FFFFFF;\n",
              "      --disabled-bg-color: #3B4455;\n",
              "      --disabled-fill-color: #666;\n",
              "  }\n",
              "\n",
              "  .colab-df-quickchart {\n",
              "    background-color: var(--bg-color);\n",
              "    border: none;\n",
              "    border-radius: 50%;\n",
              "    cursor: pointer;\n",
              "    display: none;\n",
              "    fill: var(--fill-color);\n",
              "    height: 32px;\n",
              "    padding: 0;\n",
              "    width: 32px;\n",
              "  }\n",
              "\n",
              "  .colab-df-quickchart:hover {\n",
              "    background-color: var(--hover-bg-color);\n",
              "    box-shadow: 0 1px 2px rgba(60, 64, 67, 0.3), 0 1px 3px 1px rgba(60, 64, 67, 0.15);\n",
              "    fill: var(--button-hover-fill-color);\n",
              "  }\n",
              "\n",
              "  .colab-df-quickchart-complete:disabled,\n",
              "  .colab-df-quickchart-complete:disabled:hover {\n",
              "    background-color: var(--disabled-bg-color);\n",
              "    fill: var(--disabled-fill-color);\n",
              "    box-shadow: none;\n",
              "  }\n",
              "\n",
              "  .colab-df-spinner {\n",
              "    border: 2px solid var(--fill-color);\n",
              "    border-color: transparent;\n",
              "    border-bottom-color: var(--fill-color);\n",
              "    animation:\n",
              "      spin 1s steps(1) infinite;\n",
              "  }\n",
              "\n",
              "  @keyframes spin {\n",
              "    0% {\n",
              "      border-color: transparent;\n",
              "      border-bottom-color: var(--fill-color);\n",
              "      border-left-color: var(--fill-color);\n",
              "    }\n",
              "    20% {\n",
              "      border-color: transparent;\n",
              "      border-left-color: var(--fill-color);\n",
              "      border-top-color: var(--fill-color);\n",
              "    }\n",
              "    30% {\n",
              "      border-color: transparent;\n",
              "      border-left-color: var(--fill-color);\n",
              "      border-top-color: var(--fill-color);\n",
              "      border-right-color: var(--fill-color);\n",
              "    }\n",
              "    40% {\n",
              "      border-color: transparent;\n",
              "      border-right-color: var(--fill-color);\n",
              "      border-top-color: var(--fill-color);\n",
              "    }\n",
              "    60% {\n",
              "      border-color: transparent;\n",
              "      border-right-color: var(--fill-color);\n",
              "    }\n",
              "    80% {\n",
              "      border-color: transparent;\n",
              "      border-right-color: var(--fill-color);\n",
              "      border-bottom-color: var(--fill-color);\n",
              "    }\n",
              "    90% {\n",
              "      border-color: transparent;\n",
              "      border-bottom-color: var(--fill-color);\n",
              "    }\n",
              "  }\n",
              "</style>\n",
              "\n",
              "  <script>\n",
              "    async function quickchart(key) {\n",
              "      const quickchartButtonEl =\n",
              "        document.querySelector('#' + key + ' button');\n",
              "      quickchartButtonEl.disabled = true;  // To prevent multiple clicks.\n",
              "      quickchartButtonEl.classList.add('colab-df-spinner');\n",
              "      try {\n",
              "        const charts = await google.colab.kernel.invokeFunction(\n",
              "            'suggestCharts', [key], {});\n",
              "      } catch (error) {\n",
              "        console.error('Error during call to suggestCharts:', error);\n",
              "      }\n",
              "      quickchartButtonEl.classList.remove('colab-df-spinner');\n",
              "      quickchartButtonEl.classList.add('colab-df-quickchart-complete');\n",
              "    }\n",
              "    (() => {\n",
              "      let quickchartButtonEl =\n",
              "        document.querySelector('#df-7df89faf-1d4f-4a7d-958f-4d6cab3a97fb button');\n",
              "      quickchartButtonEl.style.display =\n",
              "        google.colab.kernel.accessAllowed ? 'block' : 'none';\n",
              "    })();\n",
              "  </script>\n",
              "</div>\n",
              "    </div>\n",
              "  </div>\n"
            ]
          },
          "metadata": {},
          "execution_count": 57
        }
      ]
    },
    {
      "cell_type": "markdown",
      "source": [
        "- - -\n",
        "\n",
        "- - -"
      ],
      "metadata": {
        "id": "fEEZMjKqPywt"
      }
    },
    {
      "cell_type": "markdown",
      "source": [
        "#Cleaning the data"
      ],
      "metadata": {
        "id": "ndov6oeNO3v1"
      }
    },
    {
      "cell_type": "code",
      "execution_count": 58,
      "metadata": {
        "id": "ZKhTR1ltpjXM"
      },
      "outputs": [],
      "source": [
        "#Replacing Handcap values of 2, 3, 4 to 1\n",
        "\n",
        "df['Handcap'].replace([2, 3, 4], 1, inplace=True)"
      ]
    },
    {
      "cell_type": "code",
      "source": [
        "# Dropping rows with negative ages\n",
        "\n",
        "df = df[df['Age'] >= 0]"
      ],
      "metadata": {
        "id": "-gacDYmXhWrY"
      },
      "execution_count": 59,
      "outputs": []
    },
    {
      "cell_type": "code",
      "source": [
        "# Using lambda function to clip ages under 100\n",
        "\n",
        "df.loc[:,'Age'] = df['Age'].apply(lambda x: min(100, x))"
      ],
      "metadata": {
        "id": "KamiwnOqN9Kn"
      },
      "execution_count": 60,
      "outputs": []
    },
    {
      "cell_type": "markdown",
      "source": [
        "- - -\n",
        "\n",
        "- - -"
      ],
      "metadata": {
        "id": "SU7zYlb_P0Tf"
      }
    },
    {
      "cell_type": "markdown",
      "source": [
        "##Preprocessing and Feature Engineering"
      ],
      "metadata": {
        "id": "sawss357O_yY"
      }
    },
    {
      "cell_type": "code",
      "execution_count": 61,
      "metadata": {
        "id": "A6MXCc1Hu16v"
      },
      "outputs": [],
      "source": [
        "#Converting 'ScheduledDay' and 'AppointmentDay' to pandas datetime\n",
        "\n",
        "df['ScheduledDay'] = pd.to_datetime(df['ScheduledDay'])\n",
        "df['AppointmentDay'] = pd.to_datetime(df['AppointmentDay'])\n"
      ]
    },
    {
      "cell_type": "code",
      "execution_count": 62,
      "metadata": {
        "id": "-KRmgT-7vmun"
      },
      "outputs": [],
      "source": [
        "#Creating Date_of_Reg (Date of Registration Column) and Date_of_App (Date of appointment) with Date alone\n",
        "#Similarly we are creating month, day, and week number feature for each column\n",
        "\n",
        "df['Date_of_Reg'] = df['ScheduledDay'].dt.date\n",
        "df['Date_of_App'] = df['AppointmentDay'].dt.date\n",
        "\n",
        "df['Month_of_Reg'] = df['ScheduledDay'].dt.month\n",
        "df['Month_of_App'] = df['AppointmentDay'].dt.month\n",
        "\n",
        "df['Day_of_Reg'] = df['ScheduledDay'].dt.dayofweek #where Monday is 0 and Sunday is 6\n",
        "df['Day_of_App'] = df['AppointmentDay'].dt.dayofweek"
      ]
    },
    {
      "cell_type": "code",
      "execution_count": 63,
      "metadata": {
        "id": "lwnS0YLviS1o"
      },
      "outputs": [],
      "source": [
        "#Number of days and month difference between Date of registration and Date of appointment\n",
        "\n",
        "df['Diff_in_Date'] = (df['Date_of_App'] - df['Date_of_Reg']).dt.days.astype(int)\n",
        "df['Diff_in_Month'] = (df['AppointmentDay'].dt.year - df['ScheduledDay'].dt.year) * 12 + (df['Month_of_App'] - df['Month_of_Reg'])"
      ]
    },
    {
      "cell_type": "markdown",
      "source": [
        "- - -"
      ],
      "metadata": {
        "id": "oeRDDRliQM8h"
      }
    },
    {
      "cell_type": "code",
      "source": [
        "#Encoding the Gender and No-show column\n",
        "\n",
        "df['No-show_encoded'] = df['No-show'].map({'Yes' : 1, 'No' : 0})\n",
        "df['Gender_encoded'] = df['Gender'].map({'M' : 1, 'F' : 0})"
      ],
      "metadata": {
        "id": "gWZAiHTT514T"
      },
      "execution_count": 64,
      "outputs": []
    },
    {
      "cell_type": "markdown",
      "source": [
        "- - -"
      ],
      "metadata": {
        "id": "qd6AOXPLQLXf"
      }
    },
    {
      "cell_type": "code",
      "source": [
        "#Getting count of each neighbourhood\n",
        "\n",
        "df.groupby('Neighbourhood').size().reset_index(name='Count').sort_values(by='Count', ascending=False)"
      ],
      "metadata": {
        "colab": {
          "base_uri": "https://localhost:8080/",
          "height": 423
        },
        "id": "8fnPmkIReBF-",
        "outputId": "1d44f870-b68c-445d-e96b-c0a856cd80d7"
      },
      "execution_count": 65,
      "outputs": [
        {
          "output_type": "execute_result",
          "data": {
            "text/plain": [
              "                  Neighbourhood  Count\n",
              "38               JARDIM CAMBURI   7717\n",
              "44                  MARIA ORTIZ   5805\n",
              "59                  RESIST?NCIA   4431\n",
              "39              JARDIM DA PENHA   3877\n",
              "36                      ITARAR?   3514\n",
              "..                          ...    ...\n",
              "31                  ILHA DO BOI     35\n",
              "32                ILHA DO FRADE     10\n",
              "0                     AEROPORTO      8\n",
              "34  ILHAS OCE?NICAS DE TRINDADE      2\n",
              "51            PARQUE INDUSTRIAL      1\n",
              "\n",
              "[81 rows x 2 columns]"
            ],
            "text/html": [
              "\n",
              "  <div id=\"df-44169cc3-3c2a-442e-93a0-3ae33bf636c3\" class=\"colab-df-container\">\n",
              "    <div>\n",
              "<style scoped>\n",
              "    .dataframe tbody tr th:only-of-type {\n",
              "        vertical-align: middle;\n",
              "    }\n",
              "\n",
              "    .dataframe tbody tr th {\n",
              "        vertical-align: top;\n",
              "    }\n",
              "\n",
              "    .dataframe thead th {\n",
              "        text-align: right;\n",
              "    }\n",
              "</style>\n",
              "<table border=\"1\" class=\"dataframe\">\n",
              "  <thead>\n",
              "    <tr style=\"text-align: right;\">\n",
              "      <th></th>\n",
              "      <th>Neighbourhood</th>\n",
              "      <th>Count</th>\n",
              "    </tr>\n",
              "  </thead>\n",
              "  <tbody>\n",
              "    <tr>\n",
              "      <th>38</th>\n",
              "      <td>JARDIM CAMBURI</td>\n",
              "      <td>7717</td>\n",
              "    </tr>\n",
              "    <tr>\n",
              "      <th>44</th>\n",
              "      <td>MARIA ORTIZ</td>\n",
              "      <td>5805</td>\n",
              "    </tr>\n",
              "    <tr>\n",
              "      <th>59</th>\n",
              "      <td>RESIST?NCIA</td>\n",
              "      <td>4431</td>\n",
              "    </tr>\n",
              "    <tr>\n",
              "      <th>39</th>\n",
              "      <td>JARDIM DA PENHA</td>\n",
              "      <td>3877</td>\n",
              "    </tr>\n",
              "    <tr>\n",
              "      <th>36</th>\n",
              "      <td>ITARAR?</td>\n",
              "      <td>3514</td>\n",
              "    </tr>\n",
              "    <tr>\n",
              "      <th>...</th>\n",
              "      <td>...</td>\n",
              "      <td>...</td>\n",
              "    </tr>\n",
              "    <tr>\n",
              "      <th>31</th>\n",
              "      <td>ILHA DO BOI</td>\n",
              "      <td>35</td>\n",
              "    </tr>\n",
              "    <tr>\n",
              "      <th>32</th>\n",
              "      <td>ILHA DO FRADE</td>\n",
              "      <td>10</td>\n",
              "    </tr>\n",
              "    <tr>\n",
              "      <th>0</th>\n",
              "      <td>AEROPORTO</td>\n",
              "      <td>8</td>\n",
              "    </tr>\n",
              "    <tr>\n",
              "      <th>34</th>\n",
              "      <td>ILHAS OCE?NICAS DE TRINDADE</td>\n",
              "      <td>2</td>\n",
              "    </tr>\n",
              "    <tr>\n",
              "      <th>51</th>\n",
              "      <td>PARQUE INDUSTRIAL</td>\n",
              "      <td>1</td>\n",
              "    </tr>\n",
              "  </tbody>\n",
              "</table>\n",
              "<p>81 rows × 2 columns</p>\n",
              "</div>\n",
              "    <div class=\"colab-df-buttons\">\n",
              "\n",
              "  <div class=\"colab-df-container\">\n",
              "    <button class=\"colab-df-convert\" onclick=\"convertToInteractive('df-44169cc3-3c2a-442e-93a0-3ae33bf636c3')\"\n",
              "            title=\"Convert this dataframe to an interactive table.\"\n",
              "            style=\"display:none;\">\n",
              "\n",
              "  <svg xmlns=\"http://www.w3.org/2000/svg\" height=\"24px\" viewBox=\"0 -960 960 960\">\n",
              "    <path d=\"M120-120v-720h720v720H120Zm60-500h600v-160H180v160Zm220 220h160v-160H400v160Zm0 220h160v-160H400v160ZM180-400h160v-160H180v160Zm440 0h160v-160H620v160ZM180-180h160v-160H180v160Zm440 0h160v-160H620v160Z\"/>\n",
              "  </svg>\n",
              "    </button>\n",
              "\n",
              "  <style>\n",
              "    .colab-df-container {\n",
              "      display:flex;\n",
              "      gap: 12px;\n",
              "    }\n",
              "\n",
              "    .colab-df-convert {\n",
              "      background-color: #E8F0FE;\n",
              "      border: none;\n",
              "      border-radius: 50%;\n",
              "      cursor: pointer;\n",
              "      display: none;\n",
              "      fill: #1967D2;\n",
              "      height: 32px;\n",
              "      padding: 0 0 0 0;\n",
              "      width: 32px;\n",
              "    }\n",
              "\n",
              "    .colab-df-convert:hover {\n",
              "      background-color: #E2EBFA;\n",
              "      box-shadow: 0px 1px 2px rgba(60, 64, 67, 0.3), 0px 1px 3px 1px rgba(60, 64, 67, 0.15);\n",
              "      fill: #174EA6;\n",
              "    }\n",
              "\n",
              "    .colab-df-buttons div {\n",
              "      margin-bottom: 4px;\n",
              "    }\n",
              "\n",
              "    [theme=dark] .colab-df-convert {\n",
              "      background-color: #3B4455;\n",
              "      fill: #D2E3FC;\n",
              "    }\n",
              "\n",
              "    [theme=dark] .colab-df-convert:hover {\n",
              "      background-color: #434B5C;\n",
              "      box-shadow: 0px 1px 3px 1px rgba(0, 0, 0, 0.15);\n",
              "      filter: drop-shadow(0px 1px 2px rgba(0, 0, 0, 0.3));\n",
              "      fill: #FFFFFF;\n",
              "    }\n",
              "  </style>\n",
              "\n",
              "    <script>\n",
              "      const buttonEl =\n",
              "        document.querySelector('#df-44169cc3-3c2a-442e-93a0-3ae33bf636c3 button.colab-df-convert');\n",
              "      buttonEl.style.display =\n",
              "        google.colab.kernel.accessAllowed ? 'block' : 'none';\n",
              "\n",
              "      async function convertToInteractive(key) {\n",
              "        const element = document.querySelector('#df-44169cc3-3c2a-442e-93a0-3ae33bf636c3');\n",
              "        const dataTable =\n",
              "          await google.colab.kernel.invokeFunction('convertToInteractive',\n",
              "                                                    [key], {});\n",
              "        if (!dataTable) return;\n",
              "\n",
              "        const docLinkHtml = 'Like what you see? Visit the ' +\n",
              "          '<a target=\"_blank\" href=https://colab.research.google.com/notebooks/data_table.ipynb>data table notebook</a>'\n",
              "          + ' to learn more about interactive tables.';\n",
              "        element.innerHTML = '';\n",
              "        dataTable['output_type'] = 'display_data';\n",
              "        await google.colab.output.renderOutput(dataTable, element);\n",
              "        const docLink = document.createElement('div');\n",
              "        docLink.innerHTML = docLinkHtml;\n",
              "        element.appendChild(docLink);\n",
              "      }\n",
              "    </script>\n",
              "  </div>\n",
              "\n",
              "\n",
              "<div id=\"df-c5a912b2-963a-466b-8536-4f5c1feef000\">\n",
              "  <button class=\"colab-df-quickchart\" onclick=\"quickchart('df-c5a912b2-963a-466b-8536-4f5c1feef000')\"\n",
              "            title=\"Suggest charts\"\n",
              "            style=\"display:none;\">\n",
              "\n",
              "<svg xmlns=\"http://www.w3.org/2000/svg\" height=\"24px\"viewBox=\"0 0 24 24\"\n",
              "     width=\"24px\">\n",
              "    <g>\n",
              "        <path d=\"M19 3H5c-1.1 0-2 .9-2 2v14c0 1.1.9 2 2 2h14c1.1 0 2-.9 2-2V5c0-1.1-.9-2-2-2zM9 17H7v-7h2v7zm4 0h-2V7h2v10zm4 0h-2v-4h2v4z\"/>\n",
              "    </g>\n",
              "</svg>\n",
              "  </button>\n",
              "\n",
              "<style>\n",
              "  .colab-df-quickchart {\n",
              "      --bg-color: #E8F0FE;\n",
              "      --fill-color: #1967D2;\n",
              "      --hover-bg-color: #E2EBFA;\n",
              "      --hover-fill-color: #174EA6;\n",
              "      --disabled-fill-color: #AAA;\n",
              "      --disabled-bg-color: #DDD;\n",
              "  }\n",
              "\n",
              "  [theme=dark] .colab-df-quickchart {\n",
              "      --bg-color: #3B4455;\n",
              "      --fill-color: #D2E3FC;\n",
              "      --hover-bg-color: #434B5C;\n",
              "      --hover-fill-color: #FFFFFF;\n",
              "      --disabled-bg-color: #3B4455;\n",
              "      --disabled-fill-color: #666;\n",
              "  }\n",
              "\n",
              "  .colab-df-quickchart {\n",
              "    background-color: var(--bg-color);\n",
              "    border: none;\n",
              "    border-radius: 50%;\n",
              "    cursor: pointer;\n",
              "    display: none;\n",
              "    fill: var(--fill-color);\n",
              "    height: 32px;\n",
              "    padding: 0;\n",
              "    width: 32px;\n",
              "  }\n",
              "\n",
              "  .colab-df-quickchart:hover {\n",
              "    background-color: var(--hover-bg-color);\n",
              "    box-shadow: 0 1px 2px rgba(60, 64, 67, 0.3), 0 1px 3px 1px rgba(60, 64, 67, 0.15);\n",
              "    fill: var(--button-hover-fill-color);\n",
              "  }\n",
              "\n",
              "  .colab-df-quickchart-complete:disabled,\n",
              "  .colab-df-quickchart-complete:disabled:hover {\n",
              "    background-color: var(--disabled-bg-color);\n",
              "    fill: var(--disabled-fill-color);\n",
              "    box-shadow: none;\n",
              "  }\n",
              "\n",
              "  .colab-df-spinner {\n",
              "    border: 2px solid var(--fill-color);\n",
              "    border-color: transparent;\n",
              "    border-bottom-color: var(--fill-color);\n",
              "    animation:\n",
              "      spin 1s steps(1) infinite;\n",
              "  }\n",
              "\n",
              "  @keyframes spin {\n",
              "    0% {\n",
              "      border-color: transparent;\n",
              "      border-bottom-color: var(--fill-color);\n",
              "      border-left-color: var(--fill-color);\n",
              "    }\n",
              "    20% {\n",
              "      border-color: transparent;\n",
              "      border-left-color: var(--fill-color);\n",
              "      border-top-color: var(--fill-color);\n",
              "    }\n",
              "    30% {\n",
              "      border-color: transparent;\n",
              "      border-left-color: var(--fill-color);\n",
              "      border-top-color: var(--fill-color);\n",
              "      border-right-color: var(--fill-color);\n",
              "    }\n",
              "    40% {\n",
              "      border-color: transparent;\n",
              "      border-right-color: var(--fill-color);\n",
              "      border-top-color: var(--fill-color);\n",
              "    }\n",
              "    60% {\n",
              "      border-color: transparent;\n",
              "      border-right-color: var(--fill-color);\n",
              "    }\n",
              "    80% {\n",
              "      border-color: transparent;\n",
              "      border-right-color: var(--fill-color);\n",
              "      border-bottom-color: var(--fill-color);\n",
              "    }\n",
              "    90% {\n",
              "      border-color: transparent;\n",
              "      border-bottom-color: var(--fill-color);\n",
              "    }\n",
              "  }\n",
              "</style>\n",
              "\n",
              "  <script>\n",
              "    async function quickchart(key) {\n",
              "      const quickchartButtonEl =\n",
              "        document.querySelector('#' + key + ' button');\n",
              "      quickchartButtonEl.disabled = true;  // To prevent multiple clicks.\n",
              "      quickchartButtonEl.classList.add('colab-df-spinner');\n",
              "      try {\n",
              "        const charts = await google.colab.kernel.invokeFunction(\n",
              "            'suggestCharts', [key], {});\n",
              "      } catch (error) {\n",
              "        console.error('Error during call to suggestCharts:', error);\n",
              "      }\n",
              "      quickchartButtonEl.classList.remove('colab-df-spinner');\n",
              "      quickchartButtonEl.classList.add('colab-df-quickchart-complete');\n",
              "    }\n",
              "    (() => {\n",
              "      let quickchartButtonEl =\n",
              "        document.querySelector('#df-c5a912b2-963a-466b-8536-4f5c1feef000 button');\n",
              "      quickchartButtonEl.style.display =\n",
              "        google.colab.kernel.accessAllowed ? 'block' : 'none';\n",
              "    })();\n",
              "  </script>\n",
              "</div>\n",
              "    </div>\n",
              "  </div>\n"
            ]
          },
          "metadata": {},
          "execution_count": 65
        }
      ]
    },
    {
      "cell_type": "code",
      "source": [
        "#Encoding the neighbourhood based on count\n",
        "Neighbourhood_counts = Counter(df['Neighbourhood'])\n",
        "\n",
        "# Sort Neighbourhoods by frequency\n",
        "sorted_Neighbourhoods = sorted(Neighbourhood_counts, key=Neighbourhood_counts.get)\n",
        "\n",
        "# Create a mapping of Neighbourhoods to numerical values based on count frequency\n",
        "Neighbourhood_mapping = {Neighbourhood: i for i, Neighbourhood in enumerate(sorted_Neighbourhoods)}\n",
        "\n",
        "# Map Neighbourhoods to numerical values\n",
        "df['Encoded_Neighbourhood'] = df['Neighbourhood'].map(Neighbourhood_mapping)"
      ],
      "metadata": {
        "id": "sNU3ucefedp1"
      },
      "execution_count": 66,
      "outputs": []
    },
    {
      "cell_type": "code",
      "source": [
        "df.groupby(['Neighbourhood','Encoded_Neighbourhood']).size().reset_index(name='Count').sort_values(by='Count', ascending=False)"
      ],
      "metadata": {
        "colab": {
          "base_uri": "https://localhost:8080/",
          "height": 423
        },
        "id": "CQ80dTRWhkup",
        "outputId": "0849cb44-3758-4bb7-f7b4-b23638d9dbfd"
      },
      "execution_count": 67,
      "outputs": [
        {
          "output_type": "execute_result",
          "data": {
            "text/plain": [
              "                  Neighbourhood  Encoded_Neighbourhood  Count\n",
              "38               JARDIM CAMBURI                     80   7717\n",
              "44                  MARIA ORTIZ                     79   5805\n",
              "59                  RESIST?NCIA                     78   4431\n",
              "39              JARDIM DA PENHA                     77   3877\n",
              "36                      ITARAR?                     76   3514\n",
              "..                          ...                    ...    ...\n",
              "31                  ILHA DO BOI                      4     35\n",
              "32                ILHA DO FRADE                      3     10\n",
              "0                     AEROPORTO                      2      8\n",
              "34  ILHAS OCE?NICAS DE TRINDADE                      1      2\n",
              "51            PARQUE INDUSTRIAL                      0      1\n",
              "\n",
              "[81 rows x 3 columns]"
            ],
            "text/html": [
              "\n",
              "  <div id=\"df-0e78fc00-43ed-46ad-885f-101e45623cf1\" class=\"colab-df-container\">\n",
              "    <div>\n",
              "<style scoped>\n",
              "    .dataframe tbody tr th:only-of-type {\n",
              "        vertical-align: middle;\n",
              "    }\n",
              "\n",
              "    .dataframe tbody tr th {\n",
              "        vertical-align: top;\n",
              "    }\n",
              "\n",
              "    .dataframe thead th {\n",
              "        text-align: right;\n",
              "    }\n",
              "</style>\n",
              "<table border=\"1\" class=\"dataframe\">\n",
              "  <thead>\n",
              "    <tr style=\"text-align: right;\">\n",
              "      <th></th>\n",
              "      <th>Neighbourhood</th>\n",
              "      <th>Encoded_Neighbourhood</th>\n",
              "      <th>Count</th>\n",
              "    </tr>\n",
              "  </thead>\n",
              "  <tbody>\n",
              "    <tr>\n",
              "      <th>38</th>\n",
              "      <td>JARDIM CAMBURI</td>\n",
              "      <td>80</td>\n",
              "      <td>7717</td>\n",
              "    </tr>\n",
              "    <tr>\n",
              "      <th>44</th>\n",
              "      <td>MARIA ORTIZ</td>\n",
              "      <td>79</td>\n",
              "      <td>5805</td>\n",
              "    </tr>\n",
              "    <tr>\n",
              "      <th>59</th>\n",
              "      <td>RESIST?NCIA</td>\n",
              "      <td>78</td>\n",
              "      <td>4431</td>\n",
              "    </tr>\n",
              "    <tr>\n",
              "      <th>39</th>\n",
              "      <td>JARDIM DA PENHA</td>\n",
              "      <td>77</td>\n",
              "      <td>3877</td>\n",
              "    </tr>\n",
              "    <tr>\n",
              "      <th>36</th>\n",
              "      <td>ITARAR?</td>\n",
              "      <td>76</td>\n",
              "      <td>3514</td>\n",
              "    </tr>\n",
              "    <tr>\n",
              "      <th>...</th>\n",
              "      <td>...</td>\n",
              "      <td>...</td>\n",
              "      <td>...</td>\n",
              "    </tr>\n",
              "    <tr>\n",
              "      <th>31</th>\n",
              "      <td>ILHA DO BOI</td>\n",
              "      <td>4</td>\n",
              "      <td>35</td>\n",
              "    </tr>\n",
              "    <tr>\n",
              "      <th>32</th>\n",
              "      <td>ILHA DO FRADE</td>\n",
              "      <td>3</td>\n",
              "      <td>10</td>\n",
              "    </tr>\n",
              "    <tr>\n",
              "      <th>0</th>\n",
              "      <td>AEROPORTO</td>\n",
              "      <td>2</td>\n",
              "      <td>8</td>\n",
              "    </tr>\n",
              "    <tr>\n",
              "      <th>34</th>\n",
              "      <td>ILHAS OCE?NICAS DE TRINDADE</td>\n",
              "      <td>1</td>\n",
              "      <td>2</td>\n",
              "    </tr>\n",
              "    <tr>\n",
              "      <th>51</th>\n",
              "      <td>PARQUE INDUSTRIAL</td>\n",
              "      <td>0</td>\n",
              "      <td>1</td>\n",
              "    </tr>\n",
              "  </tbody>\n",
              "</table>\n",
              "<p>81 rows × 3 columns</p>\n",
              "</div>\n",
              "    <div class=\"colab-df-buttons\">\n",
              "\n",
              "  <div class=\"colab-df-container\">\n",
              "    <button class=\"colab-df-convert\" onclick=\"convertToInteractive('df-0e78fc00-43ed-46ad-885f-101e45623cf1')\"\n",
              "            title=\"Convert this dataframe to an interactive table.\"\n",
              "            style=\"display:none;\">\n",
              "\n",
              "  <svg xmlns=\"http://www.w3.org/2000/svg\" height=\"24px\" viewBox=\"0 -960 960 960\">\n",
              "    <path d=\"M120-120v-720h720v720H120Zm60-500h600v-160H180v160Zm220 220h160v-160H400v160Zm0 220h160v-160H400v160ZM180-400h160v-160H180v160Zm440 0h160v-160H620v160ZM180-180h160v-160H180v160Zm440 0h160v-160H620v160Z\"/>\n",
              "  </svg>\n",
              "    </button>\n",
              "\n",
              "  <style>\n",
              "    .colab-df-container {\n",
              "      display:flex;\n",
              "      gap: 12px;\n",
              "    }\n",
              "\n",
              "    .colab-df-convert {\n",
              "      background-color: #E8F0FE;\n",
              "      border: none;\n",
              "      border-radius: 50%;\n",
              "      cursor: pointer;\n",
              "      display: none;\n",
              "      fill: #1967D2;\n",
              "      height: 32px;\n",
              "      padding: 0 0 0 0;\n",
              "      width: 32px;\n",
              "    }\n",
              "\n",
              "    .colab-df-convert:hover {\n",
              "      background-color: #E2EBFA;\n",
              "      box-shadow: 0px 1px 2px rgba(60, 64, 67, 0.3), 0px 1px 3px 1px rgba(60, 64, 67, 0.15);\n",
              "      fill: #174EA6;\n",
              "    }\n",
              "\n",
              "    .colab-df-buttons div {\n",
              "      margin-bottom: 4px;\n",
              "    }\n",
              "\n",
              "    [theme=dark] .colab-df-convert {\n",
              "      background-color: #3B4455;\n",
              "      fill: #D2E3FC;\n",
              "    }\n",
              "\n",
              "    [theme=dark] .colab-df-convert:hover {\n",
              "      background-color: #434B5C;\n",
              "      box-shadow: 0px 1px 3px 1px rgba(0, 0, 0, 0.15);\n",
              "      filter: drop-shadow(0px 1px 2px rgba(0, 0, 0, 0.3));\n",
              "      fill: #FFFFFF;\n",
              "    }\n",
              "  </style>\n",
              "\n",
              "    <script>\n",
              "      const buttonEl =\n",
              "        document.querySelector('#df-0e78fc00-43ed-46ad-885f-101e45623cf1 button.colab-df-convert');\n",
              "      buttonEl.style.display =\n",
              "        google.colab.kernel.accessAllowed ? 'block' : 'none';\n",
              "\n",
              "      async function convertToInteractive(key) {\n",
              "        const element = document.querySelector('#df-0e78fc00-43ed-46ad-885f-101e45623cf1');\n",
              "        const dataTable =\n",
              "          await google.colab.kernel.invokeFunction('convertToInteractive',\n",
              "                                                    [key], {});\n",
              "        if (!dataTable) return;\n",
              "\n",
              "        const docLinkHtml = 'Like what you see? Visit the ' +\n",
              "          '<a target=\"_blank\" href=https://colab.research.google.com/notebooks/data_table.ipynb>data table notebook</a>'\n",
              "          + ' to learn more about interactive tables.';\n",
              "        element.innerHTML = '';\n",
              "        dataTable['output_type'] = 'display_data';\n",
              "        await google.colab.output.renderOutput(dataTable, element);\n",
              "        const docLink = document.createElement('div');\n",
              "        docLink.innerHTML = docLinkHtml;\n",
              "        element.appendChild(docLink);\n",
              "      }\n",
              "    </script>\n",
              "  </div>\n",
              "\n",
              "\n",
              "<div id=\"df-f22137ff-6849-44f6-8fc9-d7bdd5c4d2f9\">\n",
              "  <button class=\"colab-df-quickchart\" onclick=\"quickchart('df-f22137ff-6849-44f6-8fc9-d7bdd5c4d2f9')\"\n",
              "            title=\"Suggest charts\"\n",
              "            style=\"display:none;\">\n",
              "\n",
              "<svg xmlns=\"http://www.w3.org/2000/svg\" height=\"24px\"viewBox=\"0 0 24 24\"\n",
              "     width=\"24px\">\n",
              "    <g>\n",
              "        <path d=\"M19 3H5c-1.1 0-2 .9-2 2v14c0 1.1.9 2 2 2h14c1.1 0 2-.9 2-2V5c0-1.1-.9-2-2-2zM9 17H7v-7h2v7zm4 0h-2V7h2v10zm4 0h-2v-4h2v4z\"/>\n",
              "    </g>\n",
              "</svg>\n",
              "  </button>\n",
              "\n",
              "<style>\n",
              "  .colab-df-quickchart {\n",
              "      --bg-color: #E8F0FE;\n",
              "      --fill-color: #1967D2;\n",
              "      --hover-bg-color: #E2EBFA;\n",
              "      --hover-fill-color: #174EA6;\n",
              "      --disabled-fill-color: #AAA;\n",
              "      --disabled-bg-color: #DDD;\n",
              "  }\n",
              "\n",
              "  [theme=dark] .colab-df-quickchart {\n",
              "      --bg-color: #3B4455;\n",
              "      --fill-color: #D2E3FC;\n",
              "      --hover-bg-color: #434B5C;\n",
              "      --hover-fill-color: #FFFFFF;\n",
              "      --disabled-bg-color: #3B4455;\n",
              "      --disabled-fill-color: #666;\n",
              "  }\n",
              "\n",
              "  .colab-df-quickchart {\n",
              "    background-color: var(--bg-color);\n",
              "    border: none;\n",
              "    border-radius: 50%;\n",
              "    cursor: pointer;\n",
              "    display: none;\n",
              "    fill: var(--fill-color);\n",
              "    height: 32px;\n",
              "    padding: 0;\n",
              "    width: 32px;\n",
              "  }\n",
              "\n",
              "  .colab-df-quickchart:hover {\n",
              "    background-color: var(--hover-bg-color);\n",
              "    box-shadow: 0 1px 2px rgba(60, 64, 67, 0.3), 0 1px 3px 1px rgba(60, 64, 67, 0.15);\n",
              "    fill: var(--button-hover-fill-color);\n",
              "  }\n",
              "\n",
              "  .colab-df-quickchart-complete:disabled,\n",
              "  .colab-df-quickchart-complete:disabled:hover {\n",
              "    background-color: var(--disabled-bg-color);\n",
              "    fill: var(--disabled-fill-color);\n",
              "    box-shadow: none;\n",
              "  }\n",
              "\n",
              "  .colab-df-spinner {\n",
              "    border: 2px solid var(--fill-color);\n",
              "    border-color: transparent;\n",
              "    border-bottom-color: var(--fill-color);\n",
              "    animation:\n",
              "      spin 1s steps(1) infinite;\n",
              "  }\n",
              "\n",
              "  @keyframes spin {\n",
              "    0% {\n",
              "      border-color: transparent;\n",
              "      border-bottom-color: var(--fill-color);\n",
              "      border-left-color: var(--fill-color);\n",
              "    }\n",
              "    20% {\n",
              "      border-color: transparent;\n",
              "      border-left-color: var(--fill-color);\n",
              "      border-top-color: var(--fill-color);\n",
              "    }\n",
              "    30% {\n",
              "      border-color: transparent;\n",
              "      border-left-color: var(--fill-color);\n",
              "      border-top-color: var(--fill-color);\n",
              "      border-right-color: var(--fill-color);\n",
              "    }\n",
              "    40% {\n",
              "      border-color: transparent;\n",
              "      border-right-color: var(--fill-color);\n",
              "      border-top-color: var(--fill-color);\n",
              "    }\n",
              "    60% {\n",
              "      border-color: transparent;\n",
              "      border-right-color: var(--fill-color);\n",
              "    }\n",
              "    80% {\n",
              "      border-color: transparent;\n",
              "      border-right-color: var(--fill-color);\n",
              "      border-bottom-color: var(--fill-color);\n",
              "    }\n",
              "    90% {\n",
              "      border-color: transparent;\n",
              "      border-bottom-color: var(--fill-color);\n",
              "    }\n",
              "  }\n",
              "</style>\n",
              "\n",
              "  <script>\n",
              "    async function quickchart(key) {\n",
              "      const quickchartButtonEl =\n",
              "        document.querySelector('#' + key + ' button');\n",
              "      quickchartButtonEl.disabled = true;  // To prevent multiple clicks.\n",
              "      quickchartButtonEl.classList.add('colab-df-spinner');\n",
              "      try {\n",
              "        const charts = await google.colab.kernel.invokeFunction(\n",
              "            'suggestCharts', [key], {});\n",
              "      } catch (error) {\n",
              "        console.error('Error during call to suggestCharts:', error);\n",
              "      }\n",
              "      quickchartButtonEl.classList.remove('colab-df-spinner');\n",
              "      quickchartButtonEl.classList.add('colab-df-quickchart-complete');\n",
              "    }\n",
              "    (() => {\n",
              "      let quickchartButtonEl =\n",
              "        document.querySelector('#df-f22137ff-6849-44f6-8fc9-d7bdd5c4d2f9 button');\n",
              "      quickchartButtonEl.style.display =\n",
              "        google.colab.kernel.accessAllowed ? 'block' : 'none';\n",
              "    })();\n",
              "  </script>\n",
              "</div>\n",
              "    </div>\n",
              "  </div>\n"
            ]
          },
          "metadata": {},
          "execution_count": 67
        }
      ]
    },
    {
      "cell_type": "markdown",
      "source": [
        "The encoded neighborhood is established by assigning numerical values to each neighborhood in the dataset. Neighborhoods with the highest counts are allocated the highest numerical values in this encoding scheme."
      ],
      "metadata": {
        "id": "HiPx6YnMBNh6"
      }
    },
    {
      "cell_type": "markdown",
      "source": [
        "- - -\n",
        "\n",
        " - - -"
      ],
      "metadata": {
        "id": "SgaBxpWHP2rL"
      }
    },
    {
      "cell_type": "markdown",
      "source": [
        "#Vizualizing the corrected feature"
      ],
      "metadata": {
        "id": "ftdmfNvEPHtx"
      }
    },
    {
      "cell_type": "code",
      "execution_count": 68,
      "metadata": {
        "id": "yio-O4wIYlwV"
      },
      "outputs": [],
      "source": [
        "#User defined function for visualizing Categorical entries\n",
        "\n",
        "def catplot(df, x, explode = None, figsize = (20, 5)):\n",
        "  colors=['#FBE7A3', '#FFFFFF', '#AED6F1', '#82E0AA', '#D8BFD8', '#E6BE8A']\n",
        "  sns.set(style='white')\n",
        "  fig = plt.subplots(1,3,figsize = figsize)\n",
        "  title = x + ' vs No-show'\n",
        "  plt.suptitle(title)\n",
        "\n",
        "  plt.subplot(1,3,1)\n",
        "  df[x].value_counts().plot.pie(explode = explode, autopct = '%1.1f%%', textprops = {'fontsize': '7'}, startangle=90, shadow=True,\n",
        "                                         wedgeprops={'edgecolor': 'black'}, colors = colors)\n",
        "\n",
        "  plt.subplot(1,3,2)\n",
        "  ax = sns.countplot(data = df, x = x, color = colors[0], edgecolor = 'k')\n",
        "  ax.bar_label(ax.containers[0])\n",
        "\n",
        "  plt.subplot(1,3,3)\n",
        "  colors={'No' : '#FBE7A3', 'Yes' : '#FFFFFF'}\n",
        "  ax = sns.countplot(data = df, x = x, hue = 'No-show', palette = colors, edgecolor = 'k')\n",
        "  for container in ax.containers:\n",
        "    ax.bar_label(container)"
      ]
    },
    {
      "cell_type": "code",
      "execution_count": 69,
      "metadata": {
        "id": "85Gb9LKMBZkS"
      },
      "outputs": [],
      "source": [
        "#User defined function to print the loan approval rate for each unique value in a specified column\n",
        "\n",
        "def showup_rate(df, col_name):\n",
        "  unique = df[col_name].unique()\n",
        "  unique.sort()\n",
        "  for i in unique:\n",
        "    total = df[df[col_name] == i].shape[0]\n",
        "    showup = df[(df[col_name] == i) & (df['No-show'] == 'No') ].shape[0]\n",
        "    rate = (showup / total)*100\n",
        "    print('Show up rate for \"{0} : {1}\" patients is {2:.2f}%'.format(col_name,i , rate))"
      ]
    },
    {
      "cell_type": "markdown",
      "source": [
        "- - -"
      ],
      "metadata": {
        "id": "gka7BUUxQIiZ"
      }
    },
    {
      "cell_type": "code",
      "execution_count": 70,
      "metadata": {
        "colab": {
          "base_uri": "https://localhost:8080/",
          "height": 524
        },
        "id": "R_lpsBYh85aN",
        "outputId": "b04de151-8390-42ed-ed00-3e4f3fe98a0e"
      },
      "outputs": [
        {
          "output_type": "display_data",
          "data": {
            "text/plain": [
              "<Figure size 2000x500 with 3 Axes>"
            ],
            "image/png": "[encoded data removed]"
          },
          "metadata": {}
        }
      ],
      "source": [
        "catplot(df, 'Diff_in_Month')"
      ]
    },
    {
      "cell_type": "code",
      "execution_count": 71,
      "metadata": {
        "colab": {
          "base_uri": "https://localhost:8080/"
        },
        "id": "nPXOBxeN9Cr1",
        "outputId": "9b76e396-ae20-465c-9f5a-5d85b0b740a1"
      },
      "outputs": [
        {
          "output_type": "stream",
          "name": "stdout",
          "text": [
            "Show up rate for \"Diff_in_Month : 0\" patients is 85.28%\n",
            "Show up rate for \"Diff_in_Month : 1\" patients is 69.44%\n",
            "Show up rate for \"Diff_in_Month : 2\" patients is 67.04%\n",
            "Show up rate for \"Diff_in_Month : 3\" patients is 69.21%\n",
            "Show up rate for \"Diff_in_Month : 4\" patients is 70.69%\n",
            "Show up rate for \"Diff_in_Month : 5\" patients is 60.98%\n",
            "Show up rate for \"Diff_in_Month : 6\" patients is 69.23%\n"
          ]
        }
      ],
      "source": [
        "showup_rate(df, 'Diff_in_Month')"
      ]
    },
    {
      "cell_type": "markdown",
      "source": [
        "\n",
        "The summary of the provided show-up rates for different \"Diff_in_Month\" categories indicates that the majority of patients have either a 0 or 1-month difference. The show-up rate is notably high at 85.28% for a month difference of 0 but decreases significantly to 69.44% for a one-month difference."
      ],
      "metadata": {
        "id": "QugCivCVwn_q"
      }
    },
    {
      "cell_type": "markdown",
      "source": [
        "- - -\n",
        "\n",
        "- - -"
      ],
      "metadata": {
        "id": "XBSfZMdJQCn6"
      }
    },
    {
      "cell_type": "markdown",
      "source": [
        "##Splitting the train and test"
      ],
      "metadata": {
        "id": "YO8Sc4hDk0jR"
      }
    },
    {
      "cell_type": "code",
      "source": [
        "No_show_df = df[df['No-show'] == 'Yes']\n",
        "Showed_up_df = df[df['No-show'] == 'No']"
      ],
      "metadata": {
        "id": "7gt1UlIQCRQT"
      },
      "execution_count": 72,
      "outputs": []
    },
    {
      "cell_type": "code",
      "source": [
        "# Shuffle the DataFrame to ensure randomness in the splits\n",
        "\n",
        "No_show_df = No_show_df.sample(frac=1, random_state=42).reset_index(drop=True)\n",
        "Showed_up_df = Showed_up_df.sample(frac=1, random_state=42).reset_index(drop=True)"
      ],
      "metadata": {
        "id": "Wzccn4ncDE-R"
      },
      "execution_count": 73,
      "outputs": []
    },
    {
      "cell_type": "code",
      "source": [
        "# Determine the number of rows for each part\n",
        "\n",
        "total_rows_no_show = len(No_show_df)\n",
        "total_rows_showed_up = len(Showed_up_df)"
      ],
      "metadata": {
        "id": "4bJII2Soz6wV"
      },
      "execution_count": 74,
      "outputs": []
    },
    {
      "cell_type": "code",
      "source": [
        "train_size = int(0.7 * total_rows_no_show)\n",
        "test_size = int(0.15 * total_rows_no_show)\n",
        "val_size = total_rows_no_show - train_size - test_size\n",
        "\n",
        "# Split No_show_df into three parts\n",
        "train_no_show = No_show_df.iloc[:train_size].reset_index(drop=True)\n",
        "test_no_show = No_show_df.iloc[train_size:train_size + test_size].reset_index(drop=True)\n",
        "val_no_show = No_show_df.iloc[train_size + test_size:].reset_index(drop=True)"
      ],
      "metadata": {
        "id": "OSMOOG_21flv"
      },
      "execution_count": 75,
      "outputs": []
    },
    {
      "cell_type": "code",
      "source": [
        "# Similarly, determine the sizes for Showed_up_df\n",
        "train_size = int(0.7 * total_rows_showed_up)\n",
        "test_size = int(0.15 * total_rows_showed_up)\n",
        "val_size = total_rows_showed_up - train_size - test_size\n",
        "\n",
        "# Split Showed_up_df into three parts\n",
        "train_showed_up = Showed_up_df.iloc[:train_size].reset_index(drop=True)\n",
        "test_showed_up = Showed_up_df.iloc[train_size:train_size + test_size].reset_index(drop=True)\n",
        "val_showed_up = Showed_up_df.iloc[train_size + test_size:].reset_index(drop=True)"
      ],
      "metadata": {
        "id": "VK1SEdY-1ge2"
      },
      "execution_count": 76,
      "outputs": []
    },
    {
      "cell_type": "code",
      "source": [
        "train_df = pd.concat([train_no_show, train_showed_up], ignore_index=True)\n",
        "test_df = pd.concat([test_no_show, test_showed_up], ignore_index=True)\n",
        "val_df = pd.concat([val_no_show, val_showed_up], ignore_index=True)"
      ],
      "metadata": {
        "id": "nfIySOxB1wvv"
      },
      "execution_count": 77,
      "outputs": []
    },
    {
      "cell_type": "markdown",
      "source": [
        "- - -\n",
        "- - -"
      ],
      "metadata": {
        "id": "oxqGDlamnqZW"
      }
    },
    {
      "cell_type": "markdown",
      "source": [
        "##Splitting the dependent and independent"
      ],
      "metadata": {
        "id": "Jx8IaI5xnp2T"
      }
    },
    {
      "cell_type": "code",
      "source": [
        "train_df.info()"
      ],
      "metadata": {
        "colab": {
          "base_uri": "https://localhost:8080/"
        },
        "id": "OFcRr8KM28cF",
        "outputId": "2ad9820d-e724-4802-bdaf-d5c74b8ddd98"
      },
      "execution_count": 78,
      "outputs": [
        {
          "output_type": "stream",
          "name": "stdout",
          "text": [
            "<class 'pandas.core.frame.DataFrame'>\n",
            "RangeIndex: 77367 entries, 0 to 77366\n",
            "Data columns (total 25 columns):\n",
            " #   Column                 Non-Null Count  Dtype              \n",
            "---  ------                 --------------  -----              \n",
            " 0   PatientId              77367 non-null  float64            \n",
            " 1   AppointmentID          77367 non-null  int64              \n",
            " 2   Gender                 77367 non-null  object             \n",
            " 3   ScheduledDay           77367 non-null  datetime64[ns, UTC]\n",
            " 4   AppointmentDay         77367 non-null  datetime64[ns, UTC]\n",
            " 5   Age                    77367 non-null  int64              \n",
            " 6   Neighbourhood          77367 non-null  object             \n",
            " 7   Scholarship            77367 non-null  int64              \n",
            " 8   Hipertension           77367 non-null  int64              \n",
            " 9   Diabetes               77367 non-null  int64              \n",
            " 10  Alcoholism             77367 non-null  int64              \n",
            " 11  Handcap                77367 non-null  int64              \n",
            " 12  SMS_received           77367 non-null  int64              \n",
            " 13  No-show                77367 non-null  object             \n",
            " 14  Date_of_Reg            77367 non-null  object             \n",
            " 15  Date_of_App            77367 non-null  object             \n",
            " 16  Month_of_Reg           77367 non-null  int64              \n",
            " 17  Month_of_App           77367 non-null  int64              \n",
            " 18  Day_of_Reg             77367 non-null  int64              \n",
            " 19  Day_of_App             77367 non-null  int64              \n",
            " 20  Diff_in_Date           77367 non-null  int64              \n",
            " 21  Diff_in_Month          77367 non-null  int64              \n",
            " 22  No-show_encoded        77367 non-null  int64              \n",
            " 23  Gender_encoded         77367 non-null  int64              \n",
            " 24  Encoded_Neighbourhood  77367 non-null  int64              \n",
            "dtypes: datetime64[ns, UTC](2), float64(1), int64(17), object(5)\n",
            "memory usage: 14.8+ MB\n"
          ]
        }
      ]
    },
    {
      "cell_type": "code",
      "source": [
        "X_train = train_df.iloc[:,[5,7,8,9,10,11,12,19,20,21,23,24]]\n",
        "X_test = test_df.iloc[:,[5,7,8,9,10,11,12,19,20,21,23,24]]\n",
        "X_val = val_df.iloc[:,[5,7,8,9,10,11,12,19,20,21,23,24]]\n",
        "\n",
        "y_train = train_df.iloc[:,22].values\n",
        "y_test = test_df.iloc[:,22].values\n",
        "y_val = val_df.iloc[:,22].values"
      ],
      "metadata": {
        "id": "n1W52LP33vHL"
      },
      "execution_count": 79,
      "outputs": []
    },
    {
      "cell_type": "markdown",
      "source": [
        "- - -\n",
        "- - -"
      ],
      "metadata": {
        "id": "YYrkrSlbnsS7"
      }
    },
    {
      "cell_type": "markdown",
      "source": [
        "#Handling imbalanced data"
      ],
      "metadata": {
        "id": "pMIcQNbnndOg"
      }
    },
    {
      "cell_type": "code",
      "source": [
        "# Create an instance of NearMiss-3\n",
        "\n",
        "nm = NearMiss(version=3)\n",
        "X_train_resampled, y_train_resampled = nm.fit_resample(X_train, y_train)"
      ],
      "metadata": {
        "id": "jd2lhYF_7adB"
      },
      "execution_count": 80,
      "outputs": []
    },
    {
      "cell_type": "code",
      "source": [
        "print(\"Before UnderSampling, counts of label 'Yes': {}\".format(sum(y_train == 1)))\n",
        "print(\"Before UnderSampling, counts of label 'No': {}\".format(sum(y_train == 0)))\n",
        "\n",
        "print(\"After UnderSampling, counts of label 'Yes': {}\".format(sum(y_train_resampled == 1)))\n",
        "print(\"After UnderSampling, counts of label 'No': {}\".format(sum(y_train_resampled == 0)))"
      ],
      "metadata": {
        "colab": {
          "base_uri": "https://localhost:8080/"
        },
        "id": "BDRjDuECquIx",
        "outputId": "666928bb-4a78-4aea-d943-a729f74698c7"
      },
      "execution_count": 81,
      "outputs": [
        {
          "output_type": "stream",
          "name": "stdout",
          "text": [
            "Before UnderSampling, counts of label 'Yes': 15623\n",
            "Before UnderSampling, counts of label 'No': 61744\n",
            "After UnderSampling, counts of label 'Yes': 15623\n",
            "After UnderSampling, counts of label 'No': 15623\n"
          ]
        }
      ]
    },
    {
      "cell_type": "markdown",
      "source": [
        "- - -\n",
        "- - -"
      ],
      "metadata": {
        "id": "gnOpeVpqnuPD"
      }
    },
    {
      "cell_type": "markdown",
      "source": [
        "#Model Fitting (MLP) and Evaluation"
      ],
      "metadata": {
        "id": "pA0tW14dnv-K"
      }
    },
    {
      "cell_type": "markdown",
      "source": [
        "Model fitting"
      ],
      "metadata": {
        "id": "SQCnmT3QZrQ9"
      }
    },
    {
      "cell_type": "code",
      "source": [
        "classifier = MLPClassifier(hidden_layer_sizes=(100, 50), max_iter=1000, random_state=42)\n",
        "classifier.fit(X_train_resampled, y_train_resampled)"
      ],
      "metadata": {
        "colab": {
          "base_uri": "https://localhost:8080/",
          "height": 74
        },
        "id": "bW-H9x5l_LR3",
        "outputId": "4cbe82de-e1b9-4f25-c808-7f19e7a275ff"
      },
      "execution_count": 82,
      "outputs": [
        {
          "output_type": "execute_result",
          "data": {
            "text/plain": [
              "MLPClassifier(hidden_layer_sizes=(100, 50), max_iter=1000, random_state=42)"
            ],
            "text/html": [
              "<style>#sk-container-id-2 {color: black;background-color: white;}#sk-container-id-2 pre{padding: 0;}#sk-container-id-2 div.sk-toggleable {background-color: white;}#sk-container-id-2 label.sk-toggleable__label {cursor: pointer;display: block;width: 100%;margin-bottom: 0;padding: 0.3em;box-sizing: border-box;text-align: center;}#sk-container-id-2 label.sk-toggleable__label-arrow:before {content: \"▸\";float: left;margin-right: 0.25em;color: #696969;}#sk-container-id-2 label.sk-toggleable__label-arrow:hover:before {color: black;}#sk-container-id-2 div.sk-estimator:hover label.sk-toggleable__label-arrow:before {color: black;}#sk-container-id-2 div.sk-toggleable__content {max-height: 0;max-width: 0;overflow: hidden;text-align: left;background-color: #f0f8ff;}#sk-container-id-2 div.sk-toggleable__content pre {margin: 0.2em;color: black;border-radius: 0.25em;background-color: #f0f8ff;}#sk-container-id-2 input.sk-toggleable__control:checked~div.sk-toggleable__content {max-height: 200px;max-width: 100%;overflow: auto;}#sk-container-id-2 input.sk-toggleable__control:checked~label.sk-toggleable__label-arrow:before {content: \"▾\";}#sk-container-id-2 div.sk-estimator input.sk-toggleable__control:checked~label.sk-toggleable__label {background-color: #d4ebff;}#sk-container-id-2 div.sk-label input.sk-toggleable__control:checked~label.sk-toggleable__label {background-color: #d4ebff;}#sk-container-id-2 input.sk-hidden--visually {border: 0;clip: rect(1px 1px 1px 1px);clip: rect(1px, 1px, 1px, 1px);height: 1px;margin: -1px;overflow: hidden;padding: 0;position: absolute;width: 1px;}#sk-container-id-2 div.sk-estimator {font-family: monospace;background-color: #f0f8ff;border: 1px dotted black;border-radius: 0.25em;box-sizing: border-box;margin-bottom: 0.5em;}#sk-container-id-2 div.sk-estimator:hover {background-color: #d4ebff;}#sk-container-id-2 div.sk-parallel-item::after {content: \"\";width: 100%;border-bottom: 1px solid gray;flex-grow: 1;}#sk-container-id-2 div.sk-label:hover label.sk-toggleable__label {background-color: #d4ebff;}#sk-container-id-2 div.sk-serial::before {content: \"\";position: absolute;border-left: 1px solid gray;box-sizing: border-box;top: 0;bottom: 0;left: 50%;z-index: 0;}#sk-container-id-2 div.sk-serial {display: flex;flex-direction: column;align-items: center;background-color: white;padding-right: 0.2em;padding-left: 0.2em;position: relative;}#sk-container-id-2 div.sk-item {position: relative;z-index: 1;}#sk-container-id-2 div.sk-parallel {display: flex;align-items: stretch;justify-content: center;background-color: white;position: relative;}#sk-container-id-2 div.sk-item::before, #sk-container-id-2 div.sk-parallel-item::before {content: \"\";position: absolute;border-left: 1px solid gray;box-sizing: border-box;top: 0;bottom: 0;left: 50%;z-index: -1;}#sk-container-id-2 div.sk-parallel-item {display: flex;flex-direction: column;z-index: 1;position: relative;background-color: white;}#sk-container-id-2 div.sk-parallel-item:first-child::after {align-self: flex-end;width: 50%;}#sk-container-id-2 div.sk-parallel-item:last-child::after {align-self: flex-start;width: 50%;}#sk-container-id-2 div.sk-parallel-item:only-child::after {width: 0;}#sk-container-id-2 div.sk-dashed-wrapped {border: 1px dashed gray;margin: 0 0.4em 0.5em 0.4em;box-sizing: border-box;padding-bottom: 0.4em;background-color: white;}#sk-container-id-2 div.sk-label label {font-family: monospace;font-weight: bold;display: inline-block;line-height: 1.2em;}#sk-container-id-2 div.sk-label-container {text-align: center;}#sk-container-id-2 div.sk-container {/* jupyter's `normalize.less` sets `[hidden] { display: none; }` but bootstrap.min.css set `[hidden] { display: none !important; }` so we also need the `!important` here to be able to override the default hidden behavior on the sphinx rendered scikit-learn.org. See: https://github.com/scikit-learn/scikit-learn/issues/21755 */display: inline-block !important;position: relative;}#sk-container-id-2 div.sk-text-repr-fallback {display: none;}</style><div id=\"sk-container-id-2\" class=\"sk-top-container\"><div class=\"sk-text-repr-fallback\"><pre>MLPClassifier(hidden_layer_sizes=(100, 50), max_iter=1000, random_state=42)</pre><b>In a Jupyter environment, please rerun this cell to show the HTML representation or trust the notebook. <br />On GitHub, the HTML representation is unable to render, please try loading this page with nbviewer.org.</b></div><div class=\"sk-container\" hidden><div class=\"sk-item\"><div class=\"sk-estimator sk-toggleable\"><input class=\"sk-toggleable__control sk-hidden--visually\" id=\"sk-estimator-id-2\" type=\"checkbox\" checked><label for=\"sk-estimator-id-2\" class=\"sk-toggleable__label sk-toggleable__label-arrow\">MLPClassifier</label><div class=\"sk-toggleable__content\"><pre>MLPClassifier(hidden_layer_sizes=(100, 50), max_iter=1000, random_state=42)</pre></div></div></div></div></div>"
            ]
          },
          "metadata": {},
          "execution_count": 82
        }
      ]
    },
    {
      "cell_type": "markdown",
      "source": [
        "Evaluation metrics"
      ],
      "metadata": {
        "id": "nNKoEOyEZvVb"
      }
    },
    {
      "cell_type": "code",
      "source": [
        "print('Metrics for train data inputed in the model:\\n')\n",
        "y_train_resampled_pred = classifier.predict(X_train_resampled)\n",
        "print(\"Accuracy score:\", accuracy_score(y_train_resampled, y_train_resampled_pred))\n",
        "print(\"Precision score:\", precision_score(y_train_resampled, y_train_resampled_pred))\n",
        "print(\"Recall score:\", recall_score(y_train_resampled, y_train_resampled_pred))\n",
        "print(\"F1 score:\", f1_score(y_train_resampled, y_train_resampled_pred))\n",
        "print(\"\\nClassification report:\\n\", classification_report(y_train_resampled, y_train_resampled_pred))\n",
        "print(\"Confusion matrix:\\n\", confusion_matrix(y_train_resampled, y_train_resampled_pred))"
      ],
      "metadata": {
        "colab": {
          "base_uri": "https://localhost:8080/"
        },
        "id": "g8sb-r-1pqjJ",
        "outputId": "80b0437f-9f03-42f0-cd90-8c2a0cb87a18"
      },
      "execution_count": 83,
      "outputs": [
        {
          "output_type": "stream",
          "name": "stdout",
          "text": [
            "Metrics for train data inputed in the model:\n",
            "\n",
            "Accuracy score: 0.6097100428854894\n",
            "Precision score: 0.626401179941003\n",
            "Recall score: 0.5436855917557447\n",
            "F1 score: 0.5821197272384606\n",
            "\n",
            "Classification report:\n",
            "               precision    recall  f1-score   support\n",
            "\n",
            "           0       0.60      0.68      0.63     15623\n",
            "           1       0.63      0.54      0.58     15623\n",
            "\n",
            "    accuracy                           0.61     31246\n",
            "   macro avg       0.61      0.61      0.61     31246\n",
            "weighted avg       0.61      0.61      0.61     31246\n",
            "\n",
            "Confusion matrix:\n",
            " [[10557  5066]\n",
            " [ 7129  8494]]\n"
          ]
        }
      ]
    },
    {
      "cell_type": "code",
      "source": [
        "print('Metrics for test data:\\n')\n",
        "y_pred = classifier.predict(X_test)\n",
        "print(\"Accuracy score:\", accuracy_score(y_test, y_pred))\n",
        "print(\"Precision score:\", precision_score(y_test, y_pred))\n",
        "print(\"Recall score:\", recall_score(y_test, y_pred))\n",
        "print(\"F1 score:\", f1_score(y_test, y_pred))\n",
        "print(\"\\nClassification report:\\n\", classification_report(y_test, y_pred))\n",
        "print(\"Confusion matrix:\\n\", confusion_matrix(y_test, y_pred))"
      ],
      "metadata": {
        "colab": {
          "base_uri": "https://localhost:8080/"
        },
        "id": "95MGGOKFoE8t",
        "outputId": "a6ad9627-590d-40df-aeef-29b5826ba753"
      },
      "execution_count": 84,
      "outputs": [
        {
          "output_type": "stream",
          "name": "stdout",
          "text": [
            "Metrics for test data:\n",
            "\n",
            "Accuracy score: 0.4458921462178791\n",
            "Precision score: 0.1914826165063933\n",
            "Recall score: 0.5413803406035256\n",
            "F1 score: 0.282903981264637\n",
            "\n",
            "Classification report:\n",
            "               precision    recall  f1-score   support\n",
            "\n",
            "           0       0.78      0.42      0.55     13231\n",
            "           1       0.19      0.54      0.28      3347\n",
            "\n",
            "    accuracy                           0.45     16578\n",
            "   macro avg       0.49      0.48      0.42     16578\n",
            "weighted avg       0.66      0.45      0.49     16578\n",
            "\n",
            "Confusion matrix:\n",
            " [[5580 7651]\n",
            " [1535 1812]]\n"
          ]
        }
      ]
    },
    {
      "cell_type": "code",
      "source": [
        "print('Metrics for validation data\\n')\n",
        "y_val_pred = classifier.predict(X_val)\n",
        "print(\"Accuracy score:\", accuracy_score(y_val, y_val_pred))\n",
        "print(\"Precision score:\", precision_score(y_val, y_val_pred))\n",
        "print(\"Recall score:\", recall_score(y_val, y_val_pred))\n",
        "print(\"F1 score:\", f1_score(y_val, y_val_pred))\n",
        "print(\"\\nClassification report:\\n\", classification_report(y_val, y_val_pred))\n",
        "print(\"Confusion matrix:\\n\", confusion_matrix(y_val, y_val_pred))"
      ],
      "metadata": {
        "colab": {
          "base_uri": "https://localhost:8080/"
        },
        "id": "4HatyMXYp5TQ",
        "outputId": "f22b0841-ab96-47bf-e8b8-ac127d24aa83"
      },
      "execution_count": 85,
      "outputs": [
        {
          "output_type": "stream",
          "name": "stdout",
          "text": [
            "Metrics for validation data\n",
            "\n",
            "Accuracy score: 0.4440624811531271\n",
            "Precision score: 0.18924070740230858\n",
            "Recall score: 0.5335921170498656\n",
            "F1 score: 0.2793933708567855\n",
            "\n",
            "Classification report:\n",
            "               precision    recall  f1-score   support\n",
            "\n",
            "           0       0.78      0.42      0.55     13232\n",
            "           1       0.19      0.53      0.28      3349\n",
            "\n",
            "    accuracy                           0.44     16581\n",
            "   macro avg       0.49      0.48      0.41     16581\n",
            "weighted avg       0.66      0.44      0.49     16581\n",
            "\n",
            "Confusion matrix:\n",
            " [[5576 7656]\n",
            " [1562 1787]]\n"
          ]
        }
      ]
    },
    {
      "cell_type": "markdown",
      "source": [
        "- - -"
      ],
      "metadata": {
        "id": "IqnLTVzGT1tf"
      }
    },
    {
      "cell_type": "markdown",
      "source": [
        "##Result:\n",
        "\n",
        "\n",
        "In summary, the MLP model shows moderate accuracy and balanced metrics on both training and test sets, suggesting room for improvement via feature engineering and hyperparameter tuning."
      ],
      "metadata": {
        "id": "marTOpTaTcRR"
      }
    },
    {
      "cell_type": "markdown",
      "source": [
        "- - -\n",
        "\n",
        "- - -"
      ],
      "metadata": {
        "id": "BPo0U89K4HjF"
      }
    },
    {
      "cell_type": "markdown",
      "source": [
        "##Model fitting and evaluation after scaling"
      ],
      "metadata": {
        "id": "R3PzmK6gUG8p"
      }
    },
    {
      "cell_type": "markdown",
      "source": [
        "Scaling"
      ],
      "metadata": {
        "id": "qlvx0puAaubR"
      }
    },
    {
      "cell_type": "code",
      "source": [
        "sc = StandardScaler()\n",
        "X_train_resampled_sc = sc.fit_transform(X_train_resampled)\n",
        "X_test_sc = sc.transform(X_test)\n",
        "X_val_sc = sc.transform(X_val)"
      ],
      "metadata": {
        "id": "AFKLU082UNUb"
      },
      "execution_count": 86,
      "outputs": []
    },
    {
      "cell_type": "markdown",
      "source": [
        "Model Fitting"
      ],
      "metadata": {
        "id": "Pj2mphp8awjN"
      }
    },
    {
      "cell_type": "code",
      "source": [
        "classifier = MLPClassifier(hidden_layer_sizes=(100, 50), max_iter=1000, random_state=42)\n",
        "classifier.fit(X_train_resampled_sc, y_train_resampled)"
      ],
      "metadata": {
        "colab": {
          "base_uri": "https://localhost:8080/",
          "height": 74
        },
        "outputId": "031bf0b6-96f6-4f2a-948c-acacc4bcee6f",
        "id": "ze4x07kVZbjz"
      },
      "execution_count": 87,
      "outputs": [
        {
          "output_type": "execute_result",
          "data": {
            "text/plain": [
              "MLPClassifier(hidden_layer_sizes=(100, 50), max_iter=1000, random_state=42)"
            ],
            "text/html": [
              "<style>#sk-container-id-3 {color: black;background-color: white;}#sk-container-id-3 pre{padding: 0;}#sk-container-id-3 div.sk-toggleable {background-color: white;}#sk-container-id-3 label.sk-toggleable__label {cursor: pointer;display: block;width: 100%;margin-bottom: 0;padding: 0.3em;box-sizing: border-box;text-align: center;}#sk-container-id-3 label.sk-toggleable__label-arrow:before {content: \"▸\";float: left;margin-right: 0.25em;color: #696969;}#sk-container-id-3 label.sk-toggleable__label-arrow:hover:before {color: black;}#sk-container-id-3 div.sk-estimator:hover label.sk-toggleable__label-arrow:before {color: black;}#sk-container-id-3 div.sk-toggleable__content {max-height: 0;max-width: 0;overflow: hidden;text-align: left;background-color: #f0f8ff;}#sk-container-id-3 div.sk-toggleable__content pre {margin: 0.2em;color: black;border-radius: 0.25em;background-color: #f0f8ff;}#sk-container-id-3 input.sk-toggleable__control:checked~div.sk-toggleable__content {max-height: 200px;max-width: 100%;overflow: auto;}#sk-container-id-3 input.sk-toggleable__control:checked~label.sk-toggleable__label-arrow:before {content: \"▾\";}#sk-container-id-3 div.sk-estimator input.sk-toggleable__control:checked~label.sk-toggleable__label {background-color: #d4ebff;}#sk-container-id-3 div.sk-label input.sk-toggleable__control:checked~label.sk-toggleable__label {background-color: #d4ebff;}#sk-container-id-3 input.sk-hidden--visually {border: 0;clip: rect(1px 1px 1px 1px);clip: rect(1px, 1px, 1px, 1px);height: 1px;margin: -1px;overflow: hidden;padding: 0;position: absolute;width: 1px;}#sk-container-id-3 div.sk-estimator {font-family: monospace;background-color: #f0f8ff;border: 1px dotted black;border-radius: 0.25em;box-sizing: border-box;margin-bottom: 0.5em;}#sk-container-id-3 div.sk-estimator:hover {background-color: #d4ebff;}#sk-container-id-3 div.sk-parallel-item::after {content: \"\";width: 100%;border-bottom: 1px solid gray;flex-grow: 1;}#sk-container-id-3 div.sk-label:hover label.sk-toggleable__label {background-color: #d4ebff;}#sk-container-id-3 div.sk-serial::before {content: \"\";position: absolute;border-left: 1px solid gray;box-sizing: border-box;top: 0;bottom: 0;left: 50%;z-index: 0;}#sk-container-id-3 div.sk-serial {display: flex;flex-direction: column;align-items: center;background-color: white;padding-right: 0.2em;padding-left: 0.2em;position: relative;}#sk-container-id-3 div.sk-item {position: relative;z-index: 1;}#sk-container-id-3 div.sk-parallel {display: flex;align-items: stretch;justify-content: center;background-color: white;position: relative;}#sk-container-id-3 div.sk-item::before, #sk-container-id-3 div.sk-parallel-item::before {content: \"\";position: absolute;border-left: 1px solid gray;box-sizing: border-box;top: 0;bottom: 0;left: 50%;z-index: -1;}#sk-container-id-3 div.sk-parallel-item {display: flex;flex-direction: column;z-index: 1;position: relative;background-color: white;}#sk-container-id-3 div.sk-parallel-item:first-child::after {align-self: flex-end;width: 50%;}#sk-container-id-3 div.sk-parallel-item:last-child::after {align-self: flex-start;width: 50%;}#sk-container-id-3 div.sk-parallel-item:only-child::after {width: 0;}#sk-container-id-3 div.sk-dashed-wrapped {border: 1px dashed gray;margin: 0 0.4em 0.5em 0.4em;box-sizing: border-box;padding-bottom: 0.4em;background-color: white;}#sk-container-id-3 div.sk-label label {font-family: monospace;font-weight: bold;display: inline-block;line-height: 1.2em;}#sk-container-id-3 div.sk-label-container {text-align: center;}#sk-container-id-3 div.sk-container {/* jupyter's `normalize.less` sets `[hidden] { display: none; }` but bootstrap.min.css set `[hidden] { display: none !important; }` so we also need the `!important` here to be able to override the default hidden behavior on the sphinx rendered scikit-learn.org. See: https://github.com/scikit-learn/scikit-learn/issues/21755 */display: inline-block !important;position: relative;}#sk-container-id-3 div.sk-text-repr-fallback {display: none;}</style><div id=\"sk-container-id-3\" class=\"sk-top-container\"><div class=\"sk-text-repr-fallback\"><pre>MLPClassifier(hidden_layer_sizes=(100, 50), max_iter=1000, random_state=42)</pre><b>In a Jupyter environment, please rerun this cell to show the HTML representation or trust the notebook. <br />On GitHub, the HTML representation is unable to render, please try loading this page with nbviewer.org.</b></div><div class=\"sk-container\" hidden><div class=\"sk-item\"><div class=\"sk-estimator sk-toggleable\"><input class=\"sk-toggleable__control sk-hidden--visually\" id=\"sk-estimator-id-3\" type=\"checkbox\" checked><label for=\"sk-estimator-id-3\" class=\"sk-toggleable__label sk-toggleable__label-arrow\">MLPClassifier</label><div class=\"sk-toggleable__content\"><pre>MLPClassifier(hidden_layer_sizes=(100, 50), max_iter=1000, random_state=42)</pre></div></div></div></div></div>"
            ]
          },
          "metadata": {},
          "execution_count": 87
        }
      ]
    },
    {
      "cell_type": "markdown",
      "source": [
        "Evaluation metrics"
      ],
      "metadata": {
        "id": "Q3A2-gWMazGd"
      }
    },
    {
      "cell_type": "code",
      "source": [
        "print('Metrics for train data inputed in the model:\\n')\n",
        "y_train_resampled_pred = classifier.predict(X_train_resampled_sc)\n",
        "print(\"Accuracy score:\", accuracy_score(y_train_resampled, y_train_resampled_pred))\n",
        "print(\"Precision score:\", precision_score(y_train_resampled, y_train_resampled_pred))\n",
        "print(\"Recall score:\", recall_score(y_train_resampled, y_train_resampled_pred))\n",
        "print(\"F1 score:\", f1_score(y_train_resampled, y_train_resampled_pred))\n",
        "print(\"\\nClassification report:\\n\", classification_report(y_train_resampled, y_train_resampled_pred))\n",
        "print(\"Confusion matrix:\\n\", confusion_matrix(y_train_resampled, y_train_resampled_pred))"
      ],
      "metadata": {
        "colab": {
          "base_uri": "https://localhost:8080/"
        },
        "outputId": "ea8c4909-4734-4d92-ecc1-73307011cabb",
        "id": "IDRDNWe-ZbkK"
      },
      "execution_count": 88,
      "outputs": [
        {
          "output_type": "stream",
          "name": "stdout",
          "text": [
            "Metrics for train data inputed in the model:\n",
            "\n",
            "Accuracy score: 0.6914485054086923\n",
            "Precision score: 0.7352524775837659\n",
            "Recall score: 0.5983485886193433\n",
            "F1 score: 0.659773441084095\n",
            "\n",
            "Classification report:\n",
            "               precision    recall  f1-score   support\n",
            "\n",
            "           0       0.66      0.78      0.72     15623\n",
            "           1       0.74      0.60      0.66     15623\n",
            "\n",
            "    accuracy                           0.69     31246\n",
            "   macro avg       0.70      0.69      0.69     31246\n",
            "weighted avg       0.70      0.69      0.69     31246\n",
            "\n",
            "Confusion matrix:\n",
            " [[12257  3366]\n",
            " [ 6275  9348]]\n"
          ]
        }
      ]
    },
    {
      "cell_type": "code",
      "source": [
        "print('Metrics for test data:\\n')\n",
        "y_pred = classifier.predict(X_test_sc)\n",
        "print(\"Accuracy score:\", accuracy_score(y_test, y_pred))\n",
        "print(\"Precision score:\", precision_score(y_test, y_pred))\n",
        "print(\"Recall score:\", recall_score(y_test, y_pred))\n",
        "print(\"F1 score:\", f1_score(y_test, y_pred))\n",
        "print(\"\\nClassification report:\\n\", classification_report(y_test, y_pred))\n",
        "print(\"Confusion matrix:\\n\", confusion_matrix(y_test, y_pred))"
      ],
      "metadata": {
        "colab": {
          "base_uri": "https://localhost:8080/"
        },
        "outputId": "cd530cb0-39e0-44df-f64a-0848326bc68f",
        "id": "SwjfxDDGZbkK"
      },
      "execution_count": 89,
      "outputs": [
        {
          "output_type": "stream",
          "name": "stdout",
          "text": [
            "Metrics for test data:\n",
            "\n",
            "Accuracy score: 0.47834479430570637\n",
            "Precision score: 0.19283810406767876\n",
            "Recall score: 0.4971616372871228\n",
            "F1 score: 0.27788911155644624\n",
            "\n",
            "Classification report:\n",
            "               precision    recall  f1-score   support\n",
            "\n",
            "           0       0.79      0.47      0.59     13231\n",
            "           1       0.19      0.50      0.28      3347\n",
            "\n",
            "    accuracy                           0.48     16578\n",
            "   macro avg       0.49      0.49      0.43     16578\n",
            "weighted avg       0.67      0.48      0.53     16578\n",
            "\n",
            "Confusion matrix:\n",
            " [[6266 6965]\n",
            " [1683 1664]]\n"
          ]
        }
      ]
    },
    {
      "cell_type": "code",
      "source": [
        "print('Metrics for validation data\\n')\n",
        "y_val_pred = classifier.predict(X_val_sc)\n",
        "print(\"Accuracy score:\", accuracy_score(y_val, y_val_pred))\n",
        "print(\"Precision score:\", precision_score(y_val, y_val_pred))\n",
        "print(\"Recall score:\", recall_score(y_val, y_val_pred))\n",
        "print(\"F1 score:\", f1_score(y_val, y_val_pred))\n",
        "print(\"\\nClassification report:\\n\", classification_report(y_val, y_val_pred))\n",
        "print(\"Confusion matrix:\\n\", confusion_matrix(y_val, y_val_pred))"
      ],
      "metadata": {
        "colab": {
          "base_uri": "https://localhost:8080/"
        },
        "outputId": "eb207dbd-52f0-4c59-e533-562841309229",
        "id": "Ij9VrskYZbkL"
      },
      "execution_count": 90,
      "outputs": [
        {
          "output_type": "stream",
          "name": "stdout",
          "text": [
            "Metrics for validation data\n",
            "\n",
            "Accuracy score: 0.4727097280019299\n",
            "Precision score: 0.18878375259635358\n",
            "Recall score: 0.488504031054046\n",
            "F1 score: 0.2723262588431128\n",
            "\n",
            "Classification report:\n",
            "               precision    recall  f1-score   support\n",
            "\n",
            "           0       0.78      0.47      0.59     13232\n",
            "           1       0.19      0.49      0.27      3349\n",
            "\n",
            "    accuracy                           0.47     16581\n",
            "   macro avg       0.49      0.48      0.43     16581\n",
            "weighted avg       0.66      0.47      0.52     16581\n",
            "\n",
            "Confusion matrix:\n",
            " [[6202 7030]\n",
            " [1713 1636]]\n"
          ]
        }
      ]
    },
    {
      "cell_type": "markdown",
      "source": [
        "- - -"
      ],
      "metadata": {
        "id": "qZPJRpRzcKU1"
      }
    },
    {
      "cell_type": "markdown",
      "source": [
        "##Result\n",
        "\n",
        "After scaling the data, the MLP model demonstrates a slight improvement in accuracy compared to the non-scaled version, achieving an accuracy of just 69%."
      ],
      "metadata": {
        "id": "df6ADiQscAXe"
      }
    },
    {
      "cell_type": "markdown",
      "source": [
        "- - -\n",
        "\n",
        "- - -"
      ],
      "metadata": {
        "id": "VvsYynU2cLvI"
      }
    },
    {
      "cell_type": "markdown",
      "source": [
        "#Random Forest to find feature importance"
      ],
      "metadata": {
        "id": "IcXH91xP3Uzp"
      }
    },
    {
      "cell_type": "markdown",
      "source": [
        "Model fitting"
      ],
      "metadata": {
        "id": "gkSmbgyea5U2"
      }
    },
    {
      "cell_type": "code",
      "source": [
        "classifier = RandomForestClassifier()\n",
        "classifier.fit(X_train_resampled, y_train_resampled)"
      ],
      "metadata": {
        "colab": {
          "base_uri": "https://localhost:8080/",
          "height": 74
        },
        "outputId": "cb754102-beb0-484f-f58f-0d573c017633",
        "id": "UcGLVDDj1ktA"
      },
      "execution_count": 91,
      "outputs": [
        {
          "output_type": "execute_result",
          "data": {
            "text/plain": [
              "RandomForestClassifier()"
            ],
            "text/html": [
              "<style>#sk-container-id-4 {color: black;background-color: white;}#sk-container-id-4 pre{padding: 0;}#sk-container-id-4 div.sk-toggleable {background-color: white;}#sk-container-id-4 label.sk-toggleable__label {cursor: pointer;display: block;width: 100%;margin-bottom: 0;padding: 0.3em;box-sizing: border-box;text-align: center;}#sk-container-id-4 label.sk-toggleable__label-arrow:before {content: \"▸\";float: left;margin-right: 0.25em;color: #696969;}#sk-container-id-4 label.sk-toggleable__label-arrow:hover:before {color: black;}#sk-container-id-4 div.sk-estimator:hover label.sk-toggleable__label-arrow:before {color: black;}#sk-container-id-4 div.sk-toggleable__content {max-height: 0;max-width: 0;overflow: hidden;text-align: left;background-color: #f0f8ff;}#sk-container-id-4 div.sk-toggleable__content pre {margin: 0.2em;color: black;border-radius: 0.25em;background-color: #f0f8ff;}#sk-container-id-4 input.sk-toggleable__control:checked~div.sk-toggleable__content {max-height: 200px;max-width: 100%;overflow: auto;}#sk-container-id-4 input.sk-toggleable__control:checked~label.sk-toggleable__label-arrow:before {content: \"▾\";}#sk-container-id-4 div.sk-estimator input.sk-toggleable__control:checked~label.sk-toggleable__label {background-color: #d4ebff;}#sk-container-id-4 div.sk-label input.sk-toggleable__control:checked~label.sk-toggleable__label {background-color: #d4ebff;}#sk-container-id-4 input.sk-hidden--visually {border: 0;clip: rect(1px 1px 1px 1px);clip: rect(1px, 1px, 1px, 1px);height: 1px;margin: -1px;overflow: hidden;padding: 0;position: absolute;width: 1px;}#sk-container-id-4 div.sk-estimator {font-family: monospace;background-color: #f0f8ff;border: 1px dotted black;border-radius: 0.25em;box-sizing: border-box;margin-bottom: 0.5em;}#sk-container-id-4 div.sk-estimator:hover {background-color: #d4ebff;}#sk-container-id-4 div.sk-parallel-item::after {content: \"\";width: 100%;border-bottom: 1px solid gray;flex-grow: 1;}#sk-container-id-4 div.sk-label:hover label.sk-toggleable__label {background-color: #d4ebff;}#sk-container-id-4 div.sk-serial::before {content: \"\";position: absolute;border-left: 1px solid gray;box-sizing: border-box;top: 0;bottom: 0;left: 50%;z-index: 0;}#sk-container-id-4 div.sk-serial {display: flex;flex-direction: column;align-items: center;background-color: white;padding-right: 0.2em;padding-left: 0.2em;position: relative;}#sk-container-id-4 div.sk-item {position: relative;z-index: 1;}#sk-container-id-4 div.sk-parallel {display: flex;align-items: stretch;justify-content: center;background-color: white;position: relative;}#sk-container-id-4 div.sk-item::before, #sk-container-id-4 div.sk-parallel-item::before {content: \"\";position: absolute;border-left: 1px solid gray;box-sizing: border-box;top: 0;bottom: 0;left: 50%;z-index: -1;}#sk-container-id-4 div.sk-parallel-item {display: flex;flex-direction: column;z-index: 1;position: relative;background-color: white;}#sk-container-id-4 div.sk-parallel-item:first-child::after {align-self: flex-end;width: 50%;}#sk-container-id-4 div.sk-parallel-item:last-child::after {align-self: flex-start;width: 50%;}#sk-container-id-4 div.sk-parallel-item:only-child::after {width: 0;}#sk-container-id-4 div.sk-dashed-wrapped {border: 1px dashed gray;margin: 0 0.4em 0.5em 0.4em;box-sizing: border-box;padding-bottom: 0.4em;background-color: white;}#sk-container-id-4 div.sk-label label {font-family: monospace;font-weight: bold;display: inline-block;line-height: 1.2em;}#sk-container-id-4 div.sk-label-container {text-align: center;}#sk-container-id-4 div.sk-container {/* jupyter's `normalize.less` sets `[hidden] { display: none; }` but bootstrap.min.css set `[hidden] { display: none !important; }` so we also need the `!important` here to be able to override the default hidden behavior on the sphinx rendered scikit-learn.org. See: https://github.com/scikit-learn/scikit-learn/issues/21755 */display: inline-block !important;position: relative;}#sk-container-id-4 div.sk-text-repr-fallback {display: none;}</style><div id=\"sk-container-id-4\" class=\"sk-top-container\"><div class=\"sk-text-repr-fallback\"><pre>RandomForestClassifier()</pre><b>In a Jupyter environment, please rerun this cell to show the HTML representation or trust the notebook. <br />On GitHub, the HTML representation is unable to render, please try loading this page with nbviewer.org.</b></div><div class=\"sk-container\" hidden><div class=\"sk-item\"><div class=\"sk-estimator sk-toggleable\"><input class=\"sk-toggleable__control sk-hidden--visually\" id=\"sk-estimator-id-4\" type=\"checkbox\" checked><label for=\"sk-estimator-id-4\" class=\"sk-toggleable__label sk-toggleable__label-arrow\">RandomForestClassifier</label><div class=\"sk-toggleable__content\"><pre>RandomForestClassifier()</pre></div></div></div></div></div>"
            ]
          },
          "metadata": {},
          "execution_count": 91
        }
      ]
    },
    {
      "cell_type": "markdown",
      "source": [
        "Evaluation metrics"
      ],
      "metadata": {
        "id": "FknLJIbUa7sI"
      }
    },
    {
      "cell_type": "code",
      "source": [
        "print('Metrics for train data inputed in the model:\\n')\n",
        "y_train_resampled_pred = classifier.predict(X_train_resampled)\n",
        "print(\"Accuracy score:\", accuracy_score(y_train_resampled, y_train_resampled_pred))\n",
        "print(\"Precision score:\", precision_score(y_train_resampled, y_train_resampled_pred))\n",
        "print(\"Recall score:\", recall_score(y_train_resampled, y_train_resampled_pred))\n",
        "print(\"F1 score:\", f1_score(y_train_resampled, y_train_resampled_pred))\n",
        "print(\"\\nClassification report:\\n\", classification_report(y_train_resampled, y_train_resampled_pred))\n",
        "print(\"Confusion matrix:\\n\", confusion_matrix(y_train_resampled, y_train_resampled_pred))"
      ],
      "metadata": {
        "colab": {
          "base_uri": "https://localhost:8080/"
        },
        "outputId": "2b3985a8-2c99-447e-cd7b-bcae3f701786",
        "id": "3yL4gY-M1ktD"
      },
      "execution_count": 92,
      "outputs": [
        {
          "output_type": "stream",
          "name": "stdout",
          "text": [
            "Metrics for train data inputed in the model:\n",
            "\n",
            "Accuracy score: 0.9984638033668309\n",
            "Precision score: 0.9992307199179434\n",
            "Recall score: 0.9976957050502464\n",
            "F1 score: 0.9984626225097688\n",
            "\n",
            "Classification report:\n",
            "               precision    recall  f1-score   support\n",
            "\n",
            "           0       1.00      1.00      1.00     15623\n",
            "           1       1.00      1.00      1.00     15623\n",
            "\n",
            "    accuracy                           1.00     31246\n",
            "   macro avg       1.00      1.00      1.00     31246\n",
            "weighted avg       1.00      1.00      1.00     31246\n",
            "\n",
            "Confusion matrix:\n",
            " [[15611    12]\n",
            " [   36 15587]]\n"
          ]
        }
      ]
    },
    {
      "cell_type": "code",
      "source": [
        "print('Metrics for test data:\\n')\n",
        "y_pred = classifier.predict(X_test)\n",
        "print(\"Accuracy score:\", accuracy_score(y_test, y_pred))\n",
        "print(\"Precision score:\", precision_score(y_test, y_pred))\n",
        "print(\"Recall score:\", recall_score(y_test, y_pred))\n",
        "print(\"F1 score:\", f1_score(y_test, y_pred))\n",
        "print(\"\\nClassification report:\\n\", classification_report(y_test, y_pred))\n",
        "print(\"Confusion matrix:\\n\", confusion_matrix(y_test, y_pred))"
      ],
      "metadata": {
        "colab": {
          "base_uri": "https://localhost:8080/"
        },
        "outputId": "788bdc5f-28e4-4090-e554-2b51d6fe0dcd",
        "id": "81jAhRKR1ktE"
      },
      "execution_count": 93,
      "outputs": [
        {
          "output_type": "stream",
          "name": "stdout",
          "text": [
            "Metrics for test data:\n",
            "\n",
            "Accuracy score: 0.47979249607914104\n",
            "Precision score: 0.21211129296235678\n",
            "Recall score: 0.5808186435613982\n",
            "F1 score: 0.31074168797953966\n",
            "\n",
            "Classification report:\n",
            "               precision    recall  f1-score   support\n",
            "\n",
            "           0       0.81      0.45      0.58     13231\n",
            "           1       0.21      0.58      0.31      3347\n",
            "\n",
            "    accuracy                           0.48     16578\n",
            "   macro avg       0.51      0.52      0.45     16578\n",
            "weighted avg       0.69      0.48      0.53     16578\n",
            "\n",
            "Confusion matrix:\n",
            " [[6010 7221]\n",
            " [1403 1944]]\n"
          ]
        }
      ]
    },
    {
      "cell_type": "code",
      "source": [
        "print('Metrics for validation data:\\n')\n",
        "y_val_pred = classifier.predict(X_val)\n",
        "print(\"Accuracy score:\", accuracy_score(y_val, y_val_pred))\n",
        "print(\"Precision score:\", precision_score(y_val, y_val_pred))\n",
        "print(\"Recall score:\", recall_score(y_val, y_val_pred))\n",
        "print(\"F1 score:\", f1_score(y_val, y_val_pred))\n",
        "print(\"\\nClassification report:\\n\", classification_report(y_val, y_val_pred))\n",
        "print(\"Confusion matrix:\\n\", confusion_matrix(y_val, y_val_pred))"
      ],
      "metadata": {
        "colab": {
          "base_uri": "https://localhost:8080/"
        },
        "outputId": "4958ad7e-77cf-42a8-bf62-50587ccc27a0",
        "id": "goWFY0nJ1ktE"
      },
      "execution_count": 94,
      "outputs": [
        {
          "output_type": "stream",
          "name": "stdout",
          "text": [
            "Metrics for validation data:\n",
            "\n",
            "Accuracy score: 0.4867016464628189\n",
            "Precision score: 0.21303090949521902\n",
            "Recall score: 0.5721110779337115\n",
            "F1 score: 0.31045936968322124\n",
            "\n",
            "Classification report:\n",
            "               precision    recall  f1-score   support\n",
            "\n",
            "           0       0.81      0.47      0.59     13232\n",
            "           1       0.21      0.57      0.31      3349\n",
            "\n",
            "    accuracy                           0.49     16581\n",
            "   macro avg       0.51      0.52      0.45     16581\n",
            "weighted avg       0.69      0.49      0.53     16581\n",
            "\n",
            "Confusion matrix:\n",
            " [[6154 7078]\n",
            " [1433 1916]]\n"
          ]
        }
      ]
    },
    {
      "cell_type": "markdown",
      "source": [
        "Feature importance"
      ],
      "metadata": {
        "id": "X2-IfE8HcQ31"
      }
    },
    {
      "cell_type": "code",
      "source": [
        "importances = classifier.feature_importances_\n",
        "indices = np.argsort(importances)[::-1]\n",
        "\n",
        "X_df = train_df.iloc[:,[5,7,8,9,10,11,12,17,19,20,21,23,24]]\n",
        "plt.figure()\n",
        "plt.title(\"Feature importances\")\n",
        "plt.bar(range(X_train.shape[1]), importances[indices],\n",
        "        color=\"#FBE7A3\", align=\"center\", edgecolor=\"black\")\n",
        "plt.xticks(range(X_train.shape[1]), X_df.columns[indices], rotation=90)\n",
        "plt.xlim([-1, X_train.shape[1]])\n",
        "plt.show()"
      ],
      "metadata": {
        "colab": {
          "base_uri": "https://localhost:8080/",
          "height": 572
        },
        "id": "yFslJSaP1saI",
        "outputId": "4a5d8336-76cf-4b61-9c22-76358a91cd0a"
      },
      "execution_count": 95,
      "outputs": [
        {
          "output_type": "display_data",
          "data": {
            "text/plain": [
              "<Figure size 640x480 with 1 Axes>"
            ],
            "image/png": "[encoded data removed]"
          },
          "metadata": {}
        }
      ]
    },
    {
      "cell_type": "markdown",
      "source": [
        "- - -"
      ],
      "metadata": {
        "id": "2D6j1gJcTyA7"
      }
    },
    {
      "cell_type": "markdown",
      "source": [
        "##Result:\n",
        "\n",
        "The Random Forest model achieves near-perfect accuracy on training data but faces challenges in generalization, necessitating regularization and model evaluation for real-world applicability. Age, Neighbourhood and Diff_in_Date are the top 3 important features according to random forest classifier."
      ],
      "metadata": {
        "id": "VGp5GzcjTppk"
      }
    },
    {
      "cell_type": "markdown",
      "source": [
        "- - -\n",
        "\n",
        "- - -"
      ],
      "metadata": {
        "id": "HbBxZyvg4LRu"
      }
    }
  ]
}
